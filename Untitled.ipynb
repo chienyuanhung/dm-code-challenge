{
 "cells": [
  {
   "cell_type": "code",
   "execution_count": 1,
   "metadata": {},
   "outputs": [],
   "source": [
    "import pandas as pd"
   ]
  },
  {
   "cell_type": "code",
   "execution_count": 10,
   "metadata": {},
   "outputs": [
    {
     "data": {
      "text/html": [
       "<div>\n",
       "<style scoped>\n",
       "    .dataframe tbody tr th:only-of-type {\n",
       "        vertical-align: middle;\n",
       "    }\n",
       "\n",
       "    .dataframe tbody tr th {\n",
       "        vertical-align: top;\n",
       "    }\n",
       "\n",
       "    .dataframe thead th {\n",
       "        text-align: right;\n",
       "    }\n",
       "</style>\n",
       "<table border=\"1\" class=\"dataframe\">\n",
       "  <thead>\n",
       "    <tr style=\"text-align: right;\">\n",
       "      <th></th>\n",
       "      <th>ID</th>\n",
       "      <th>SX</th>\n",
       "      <th>RID</th>\n",
       "      <th>SITEID</th>\n",
       "      <th>VISCODE</th>\n",
       "      <th>ENTRY</th>\n",
       "      <th>VERIFY</th>\n",
       "      <th>USERID</th>\n",
       "      <th>USERDATE</th>\n",
       "      <th>USERID2</th>\n",
       "      <th>...</th>\n",
       "      <th>ECENDAT</th>\n",
       "      <th>ECOCCUR</th>\n",
       "      <th>ECREASOC</th>\n",
       "      <th>REASOTH</th>\n",
       "      <th>ECSDSTXT</th>\n",
       "      <th>ECDOSU</th>\n",
       "      <th>ECDOSFRQ</th>\n",
       "      <th>ECDOSADJ</th>\n",
       "      <th>ECADJ</th>\n",
       "      <th>ECADJOTH</th>\n",
       "    </tr>\n",
       "  </thead>\n",
       "  <tbody>\n",
       "    <tr>\n",
       "      <th>0</th>\n",
       "      <td>2</td>\n",
       "      <td>-4</td>\n",
       "      <td>20</td>\n",
       "      <td>2</td>\n",
       "      <td>w04</td>\n",
       "      <td>4</td>\n",
       "      <td>4</td>\n",
       "      <td>BBAGGINS_UCSD_EDU_2</td>\n",
       "      <td>8/10/18</td>\n",
       "      <td>NaN</td>\n",
       "      <td>...</td>\n",
       "      <td>8/10/18</td>\n",
       "      <td>N</td>\n",
       "      <td>OTHER</td>\n",
       "      <td>Test</td>\n",
       "      <td>-4</td>\n",
       "      <td>-4</td>\n",
       "      <td>-4</td>\n",
       "      <td>-4</td>\n",
       "      <td>-4</td>\n",
       "      <td>-4.0</td>\n",
       "    </tr>\n",
       "    <tr>\n",
       "      <th>1</th>\n",
       "      <td>4</td>\n",
       "      <td>-4</td>\n",
       "      <td>20</td>\n",
       "      <td>2</td>\n",
       "      <td>w08</td>\n",
       "      <td>4</td>\n",
       "      <td>4</td>\n",
       "      <td>BBAGGINS_UCSD_EDU_2</td>\n",
       "      <td>8/10/18</td>\n",
       "      <td>NaN</td>\n",
       "      <td>...</td>\n",
       "      <td>8/10/18</td>\n",
       "      <td>Y</td>\n",
       "      <td>-4</td>\n",
       "      <td>-4</td>\n",
       "      <td>200</td>\n",
       "      <td>mg</td>\n",
       "      <td>QD</td>\n",
       "      <td>N</td>\n",
       "      <td>-4</td>\n",
       "      <td>-4.0</td>\n",
       "    </tr>\n",
       "    <tr>\n",
       "      <th>2</th>\n",
       "      <td>6</td>\n",
       "      <td>-4</td>\n",
       "      <td>20</td>\n",
       "      <td>2</td>\n",
       "      <td>w12</td>\n",
       "      <td>4</td>\n",
       "      <td>4</td>\n",
       "      <td>BBAGGINS_UCSD_EDU_2</td>\n",
       "      <td>8/10/18</td>\n",
       "      <td>NaN</td>\n",
       "      <td>...</td>\n",
       "      <td>8/10/18</td>\n",
       "      <td>Y</td>\n",
       "      <td>-4</td>\n",
       "      <td>-4</td>\n",
       "      <td>200</td>\n",
       "      <td>mg</td>\n",
       "      <td>QD</td>\n",
       "      <td>N</td>\n",
       "      <td>-4</td>\n",
       "      <td>-4.0</td>\n",
       "    </tr>\n",
       "    <tr>\n",
       "      <th>3</th>\n",
       "      <td>8</td>\n",
       "      <td>-4</td>\n",
       "      <td>20</td>\n",
       "      <td>2</td>\n",
       "      <td>bl</td>\n",
       "      <td>4</td>\n",
       "      <td>4</td>\n",
       "      <td>BBAGGINS_UCSD_EDU_2</td>\n",
       "      <td>8/10/18</td>\n",
       "      <td>NaN</td>\n",
       "      <td>...</td>\n",
       "      <td>8/10/18</td>\n",
       "      <td>Y</td>\n",
       "      <td>-4</td>\n",
       "      <td>-4</td>\n",
       "      <td>140</td>\n",
       "      <td>mg</td>\n",
       "      <td>QD</td>\n",
       "      <td>N</td>\n",
       "      <td>-4</td>\n",
       "      <td>-4.0</td>\n",
       "    </tr>\n",
       "    <tr>\n",
       "      <th>4</th>\n",
       "      <td>10</td>\n",
       "      <td>-4</td>\n",
       "      <td>20</td>\n",
       "      <td>2</td>\n",
       "      <td>w24</td>\n",
       "      <td>4</td>\n",
       "      <td>4</td>\n",
       "      <td>BBAGGINS_UCSD_EDU_2</td>\n",
       "      <td>8/10/18</td>\n",
       "      <td>BBAGGINS_UCSD_EDU_2</td>\n",
       "      <td>...</td>\n",
       "      <td>-4</td>\n",
       "      <td>Y</td>\n",
       "      <td>-4</td>\n",
       "      <td>-4</td>\n",
       "      <td>200</td>\n",
       "      <td>mg</td>\n",
       "      <td>QD</td>\n",
       "      <td>N</td>\n",
       "      <td>-4</td>\n",
       "      <td>-4.0</td>\n",
       "    </tr>\n",
       "  </tbody>\n",
       "</table>\n",
       "<p>5 rows × 23 columns</p>\n",
       "</div>"
      ],
      "text/plain": [
       "   ID  SX  RID  SITEID VISCODE  ENTRY  VERIFY               USERID USERDATE  \\\n",
       "0   2  -4   20       2     w04      4       4  BBAGGINS_UCSD_EDU_2  8/10/18   \n",
       "1   4  -4   20       2     w08      4       4  BBAGGINS_UCSD_EDU_2  8/10/18   \n",
       "2   6  -4   20       2     w12      4       4  BBAGGINS_UCSD_EDU_2  8/10/18   \n",
       "3   8  -4   20       2      bl      4       4  BBAGGINS_UCSD_EDU_2  8/10/18   \n",
       "4  10  -4   20       2     w24      4       4  BBAGGINS_UCSD_EDU_2  8/10/18   \n",
       "\n",
       "               USERID2  ...  ECENDAT  ECOCCUR ECREASOC REASOTH ECSDSTXT  \\\n",
       "0                  NaN  ...  8/10/18        N    OTHER    Test       -4   \n",
       "1                  NaN  ...  8/10/18        Y       -4      -4      200   \n",
       "2                  NaN  ...  8/10/18        Y       -4      -4      200   \n",
       "3                  NaN  ...  8/10/18        Y       -4      -4      140   \n",
       "4  BBAGGINS_UCSD_EDU_2  ...       -4        Y       -4      -4      200   \n",
       "\n",
       "  ECDOSU ECDOSFRQ  ECDOSADJ ECADJ ECADJOTH  \n",
       "0     -4       -4        -4    -4     -4.0  \n",
       "1     mg       QD         N    -4     -4.0  \n",
       "2     mg       QD         N    -4     -4.0  \n",
       "3     mg       QD         N    -4     -4.0  \n",
       "4     mg       QD         N    -4     -4.0  \n",
       "\n",
       "[5 rows x 23 columns]"
      ]
     },
     "execution_count": 10,
     "metadata": {},
     "output_type": "execute_result"
    }
   ],
   "source": [
    "file1 = \"data/t2_ec 20190619.csv\"\n",
    "t2_ec = pd.read_csv(file1)\n",
    "t2_ec.head()"
   ]
  },
  {
   "cell_type": "code",
   "execution_count": 121,
   "metadata": {},
   "outputs": [
    {
     "data": {
      "text/plain": [
       "'w08'"
      ]
     },
     "execution_count": 121,
     "metadata": {},
     "output_type": "execute_result"
    }
   ],
   "source": [
    "filter_not_df(t2_ec, 'ID', 6).VISCODE[1]\n"
   ]
  },
  {
   "cell_type": "code",
   "execution_count": 81,
   "metadata": {},
   "outputs": [
    {
     "data": {
      "text/html": [
       "<div>\n",
       "<style scoped>\n",
       "    .dataframe tbody tr th:only-of-type {\n",
       "        vertical-align: middle;\n",
       "    }\n",
       "\n",
       "    .dataframe tbody tr th {\n",
       "        vertical-align: top;\n",
       "    }\n",
       "\n",
       "    .dataframe thead th {\n",
       "        text-align: right;\n",
       "    }\n",
       "</style>\n",
       "<table border=\"1\" class=\"dataframe\">\n",
       "  <thead>\n",
       "    <tr style=\"text-align: right;\">\n",
       "      <th></th>\n",
       "      <th>ID</th>\n",
       "      <th>SX</th>\n",
       "      <th>RID</th>\n",
       "      <th>SITEID</th>\n",
       "      <th>VISCODE</th>\n",
       "      <th>ENTRY</th>\n",
       "      <th>VERIFY</th>\n",
       "      <th>USERID</th>\n",
       "      <th>USERDATE</th>\n",
       "      <th>USERID2</th>\n",
       "      <th>USERDATE2</th>\n",
       "      <th>SVPERF</th>\n",
       "      <th>SVSTDT</th>\n",
       "      <th>SVRESCRN</th>\n",
       "      <th>SVPREVID</th>\n",
       "      <th>SVCALL</th>\n",
       "      <th>SVDOSE</th>\n",
       "      <th>SVCOVAL</th>\n",
       "    </tr>\n",
       "  </thead>\n",
       "  <tbody>\n",
       "    <tr>\n",
       "      <th>0</th>\n",
       "      <td>6</td>\n",
       "      <td>-4</td>\n",
       "      <td>19</td>\n",
       "      <td>1</td>\n",
       "      <td>sc</td>\n",
       "      <td>4</td>\n",
       "      <td>4</td>\n",
       "      <td>BBAGGINS_UCSD_EDU_2</td>\n",
       "      <td>8/9/18</td>\n",
       "      <td>NaN</td>\n",
       "      <td>NaN</td>\n",
       "      <td>Y</td>\n",
       "      <td>8/9/18</td>\n",
       "      <td>N</td>\n",
       "      <td>-4</td>\n",
       "      <td>-4</td>\n",
       "      <td>-4</td>\n",
       "      <td>-4</td>\n",
       "    </tr>\n",
       "    <tr>\n",
       "      <th>1</th>\n",
       "      <td>8</td>\n",
       "      <td>-4</td>\n",
       "      <td>17</td>\n",
       "      <td>2</td>\n",
       "      <td>sc</td>\n",
       "      <td>4</td>\n",
       "      <td>4</td>\n",
       "      <td>BBAGGINS_UCSD_EDU_2</td>\n",
       "      <td>8/9/18</td>\n",
       "      <td>NaN</td>\n",
       "      <td>NaN</td>\n",
       "      <td>Y</td>\n",
       "      <td>8/9/18</td>\n",
       "      <td>N</td>\n",
       "      <td>-4</td>\n",
       "      <td>-4</td>\n",
       "      <td>-4</td>\n",
       "      <td>-4</td>\n",
       "    </tr>\n",
       "    <tr>\n",
       "      <th>2</th>\n",
       "      <td>10</td>\n",
       "      <td>-4</td>\n",
       "      <td>20</td>\n",
       "      <td>2</td>\n",
       "      <td>sc</td>\n",
       "      <td>4</td>\n",
       "      <td>4</td>\n",
       "      <td>BBAGGINS_UCSD_EDU_2</td>\n",
       "      <td>8/9/18</td>\n",
       "      <td>NaN</td>\n",
       "      <td>NaN</td>\n",
       "      <td>Y</td>\n",
       "      <td>8/9/18</td>\n",
       "      <td>N</td>\n",
       "      <td>-4</td>\n",
       "      <td>-4</td>\n",
       "      <td>-4</td>\n",
       "      <td>-4</td>\n",
       "    </tr>\n",
       "    <tr>\n",
       "      <th>3</th>\n",
       "      <td>12</td>\n",
       "      <td>-4</td>\n",
       "      <td>20</td>\n",
       "      <td>2</td>\n",
       "      <td>bl</td>\n",
       "      <td>4</td>\n",
       "      <td>4</td>\n",
       "      <td>BBAGGINS_UCSD_EDU_2</td>\n",
       "      <td>8/10/18</td>\n",
       "      <td>NaN</td>\n",
       "      <td>NaN</td>\n",
       "      <td>Y</td>\n",
       "      <td>8/10/18</td>\n",
       "      <td>-4</td>\n",
       "      <td>-4</td>\n",
       "      <td>-4</td>\n",
       "      <td>-4</td>\n",
       "      <td>-4</td>\n",
       "    </tr>\n",
       "    <tr>\n",
       "      <th>4</th>\n",
       "      <td>14</td>\n",
       "      <td>-4</td>\n",
       "      <td>20</td>\n",
       "      <td>2</td>\n",
       "      <td>w02</td>\n",
       "      <td>4</td>\n",
       "      <td>4</td>\n",
       "      <td>BBAGGINS_UCSD_EDU_2</td>\n",
       "      <td>8/24/18</td>\n",
       "      <td>NaN</td>\n",
       "      <td>NaN</td>\n",
       "      <td>Y</td>\n",
       "      <td>8/10/18</td>\n",
       "      <td>-4</td>\n",
       "      <td>-4</td>\n",
       "      <td>Y</td>\n",
       "      <td>Y</td>\n",
       "      <td>-4</td>\n",
       "    </tr>\n",
       "  </tbody>\n",
       "</table>\n",
       "</div>"
      ],
      "text/plain": [
       "   ID  SX  RID  SITEID VISCODE  ENTRY  VERIFY               USERID USERDATE  \\\n",
       "0   6  -4   19       1      sc      4       4  BBAGGINS_UCSD_EDU_2   8/9/18   \n",
       "1   8  -4   17       2      sc      4       4  BBAGGINS_UCSD_EDU_2   8/9/18   \n",
       "2  10  -4   20       2      sc      4       4  BBAGGINS_UCSD_EDU_2   8/9/18   \n",
       "3  12  -4   20       2      bl      4       4  BBAGGINS_UCSD_EDU_2  8/10/18   \n",
       "4  14  -4   20       2     w02      4       4  BBAGGINS_UCSD_EDU_2  8/24/18   \n",
       "\n",
       "   USERID2  USERDATE2 SVPERF   SVSTDT SVRESCRN  SVPREVID SVCALL SVDOSE  \\\n",
       "0      NaN        NaN      Y   8/9/18        N        -4     -4     -4   \n",
       "1      NaN        NaN      Y   8/9/18        N        -4     -4     -4   \n",
       "2      NaN        NaN      Y   8/9/18        N        -4     -4     -4   \n",
       "3      NaN        NaN      Y  8/10/18       -4        -4     -4     -4   \n",
       "4      NaN        NaN      Y  8/10/18       -4        -4      Y      Y   \n",
       "\n",
       "   SVCOVAL  \n",
       "0       -4  \n",
       "1       -4  \n",
       "2       -4  \n",
       "3       -4  \n",
       "4       -4  "
      ]
     },
     "execution_count": 81,
     "metadata": {},
     "output_type": "execute_result"
    }
   ],
   "source": [
    "file2 = \"t2_registry 20190619.csv\"\n",
    "t2_registry = pd.read_csv(file2)\n",
    "t2_registry.head()"
   ]
  },
  {
   "cell_type": "code",
   "execution_count": 107,
   "metadata": {},
   "outputs": [
    {
     "data": {
      "text/plain": [
       "0    BBAGGINS_UCSD_EDU_2\n",
       "1    BBAGGINS_UCSD_EDU_2\n",
       "2    BBAGGINS_UCSD_EDU_2\n",
       "Name: USERID, dtype: object"
      ]
     },
     "execution_count": 107,
     "metadata": {},
     "output_type": "execute_result"
    }
   ],
   "source": [
    "filter_df_not(t2_registry, 'VISCODE', 'sc').USERID[0] "
   ]
  },
  {
   "cell_type": "code",
   "execution_count": 92,
   "metadata": {},
   "outputs": [],
   "source": [
    "def filter_df(dataframe, column, condition):\n",
    "    return dataframe[dataframe[column] == condition]"
   ]
  },
  {
   "cell_type": "code",
   "execution_count": 94,
   "metadata": {},
   "outputs": [],
   "source": [
    "def filter_not_df(dataframe, column, condition):\n",
    "    return dataframe[dataframe[column] != condition]"
   ]
  },
  {
   "cell_type": "code",
   "execution_count": 120,
   "metadata": {},
   "outputs": [
    {
     "data": {
      "text/plain": [
       "11"
      ]
     },
     "execution_count": 120,
     "metadata": {},
     "output_type": "execute_result"
    }
   ],
   "source": [
    "df2 = filter_not_df(t2_registry,\"VISCODE\", \"sc\")\n",
    "len(df2)"
   ]
  },
  {
   "cell_type": "code",
   "execution_count": 97,
   "metadata": {},
   "outputs": [
    {
     "data": {
      "text/html": [
       "<div>\n",
       "<style scoped>\n",
       "    .dataframe tbody tr th:only-of-type {\n",
       "        vertical-align: middle;\n",
       "    }\n",
       "\n",
       "    .dataframe tbody tr th {\n",
       "        vertical-align: top;\n",
       "    }\n",
       "\n",
       "    .dataframe thead th {\n",
       "        text-align: right;\n",
       "    }\n",
       "</style>\n",
       "<table border=\"1\" class=\"dataframe\">\n",
       "  <thead>\n",
       "    <tr style=\"text-align: right;\">\n",
       "      <th></th>\n",
       "      <th>ID</th>\n",
       "      <th>SX</th>\n",
       "      <th>RID</th>\n",
       "      <th>SITEID</th>\n",
       "      <th>VISCODE</th>\n",
       "      <th>ENTRY</th>\n",
       "      <th>VERIFY</th>\n",
       "      <th>USERID</th>\n",
       "      <th>USERDATE</th>\n",
       "      <th>USERID2</th>\n",
       "      <th>USERDATE2</th>\n",
       "      <th>SVPERF</th>\n",
       "      <th>SVSTDT</th>\n",
       "      <th>SVRESCRN</th>\n",
       "      <th>SVPREVID</th>\n",
       "      <th>SVCALL</th>\n",
       "      <th>SVDOSE</th>\n",
       "      <th>SVCOVAL</th>\n",
       "    </tr>\n",
       "  </thead>\n",
       "  <tbody>\n",
       "    <tr>\n",
       "      <th>0</th>\n",
       "      <td>6</td>\n",
       "      <td>-4</td>\n",
       "      <td>19</td>\n",
       "      <td>1</td>\n",
       "      <td>sc</td>\n",
       "      <td>4</td>\n",
       "      <td>4</td>\n",
       "      <td>BBAGGINS_UCSD_EDU_2</td>\n",
       "      <td>8/9/18</td>\n",
       "      <td>NaN</td>\n",
       "      <td>NaN</td>\n",
       "      <td>Y</td>\n",
       "      <td>8/9/18</td>\n",
       "      <td>N</td>\n",
       "      <td>-4</td>\n",
       "      <td>-4</td>\n",
       "      <td>-4</td>\n",
       "      <td>-4</td>\n",
       "    </tr>\n",
       "    <tr>\n",
       "      <th>1</th>\n",
       "      <td>8</td>\n",
       "      <td>-4</td>\n",
       "      <td>17</td>\n",
       "      <td>2</td>\n",
       "      <td>sc</td>\n",
       "      <td>4</td>\n",
       "      <td>4</td>\n",
       "      <td>BBAGGINS_UCSD_EDU_2</td>\n",
       "      <td>8/9/18</td>\n",
       "      <td>NaN</td>\n",
       "      <td>NaN</td>\n",
       "      <td>Y</td>\n",
       "      <td>8/9/18</td>\n",
       "      <td>N</td>\n",
       "      <td>-4</td>\n",
       "      <td>-4</td>\n",
       "      <td>-4</td>\n",
       "      <td>-4</td>\n",
       "    </tr>\n",
       "    <tr>\n",
       "      <th>2</th>\n",
       "      <td>10</td>\n",
       "      <td>-4</td>\n",
       "      <td>20</td>\n",
       "      <td>2</td>\n",
       "      <td>sc</td>\n",
       "      <td>4</td>\n",
       "      <td>4</td>\n",
       "      <td>BBAGGINS_UCSD_EDU_2</td>\n",
       "      <td>8/9/18</td>\n",
       "      <td>NaN</td>\n",
       "      <td>NaN</td>\n",
       "      <td>Y</td>\n",
       "      <td>8/9/18</td>\n",
       "      <td>N</td>\n",
       "      <td>-4</td>\n",
       "      <td>-4</td>\n",
       "      <td>-4</td>\n",
       "      <td>-4</td>\n",
       "    </tr>\n",
       "    <tr>\n",
       "      <th>4</th>\n",
       "      <td>14</td>\n",
       "      <td>-4</td>\n",
       "      <td>20</td>\n",
       "      <td>2</td>\n",
       "      <td>w02</td>\n",
       "      <td>4</td>\n",
       "      <td>4</td>\n",
       "      <td>BBAGGINS_UCSD_EDU_2</td>\n",
       "      <td>8/24/18</td>\n",
       "      <td>NaN</td>\n",
       "      <td>NaN</td>\n",
       "      <td>Y</td>\n",
       "      <td>8/10/18</td>\n",
       "      <td>-4</td>\n",
       "      <td>-4</td>\n",
       "      <td>Y</td>\n",
       "      <td>Y</td>\n",
       "      <td>-4</td>\n",
       "    </tr>\n",
       "    <tr>\n",
       "      <th>5</th>\n",
       "      <td>16</td>\n",
       "      <td>-4</td>\n",
       "      <td>20</td>\n",
       "      <td>2</td>\n",
       "      <td>w04</td>\n",
       "      <td>4</td>\n",
       "      <td>4</td>\n",
       "      <td>BBAGGINS_UCSD_EDU_2</td>\n",
       "      <td>9/24/18</td>\n",
       "      <td>NaN</td>\n",
       "      <td>NaN</td>\n",
       "      <td>Y</td>\n",
       "      <td>8/10/18</td>\n",
       "      <td>-4</td>\n",
       "      <td>-4</td>\n",
       "      <td>-4</td>\n",
       "      <td>-4</td>\n",
       "      <td>-4</td>\n",
       "    </tr>\n",
       "    <tr>\n",
       "      <th>6</th>\n",
       "      <td>18</td>\n",
       "      <td>-4</td>\n",
       "      <td>20</td>\n",
       "      <td>2</td>\n",
       "      <td>w08</td>\n",
       "      <td>4</td>\n",
       "      <td>4</td>\n",
       "      <td>BBAGGINS_UCSD_EDU_2</td>\n",
       "      <td>10/24/18</td>\n",
       "      <td>NaN</td>\n",
       "      <td>NaN</td>\n",
       "      <td>Y</td>\n",
       "      <td>8/10/18</td>\n",
       "      <td>-4</td>\n",
       "      <td>-4</td>\n",
       "      <td>-4</td>\n",
       "      <td>-4</td>\n",
       "      <td>-4</td>\n",
       "    </tr>\n",
       "    <tr>\n",
       "      <th>7</th>\n",
       "      <td>20</td>\n",
       "      <td>-4</td>\n",
       "      <td>20</td>\n",
       "      <td>2</td>\n",
       "      <td>w12</td>\n",
       "      <td>4</td>\n",
       "      <td>4</td>\n",
       "      <td>BBAGGINS_UCSD_EDU_2</td>\n",
       "      <td>11/24/18</td>\n",
       "      <td>NaN</td>\n",
       "      <td>NaN</td>\n",
       "      <td>Y</td>\n",
       "      <td>8/10/18</td>\n",
       "      <td>-4</td>\n",
       "      <td>-4</td>\n",
       "      <td>-4</td>\n",
       "      <td>-4</td>\n",
       "      <td>-4</td>\n",
       "    </tr>\n",
       "    <tr>\n",
       "      <th>8</th>\n",
       "      <td>22</td>\n",
       "      <td>-4</td>\n",
       "      <td>20</td>\n",
       "      <td>2</td>\n",
       "      <td>w24</td>\n",
       "      <td>4</td>\n",
       "      <td>4</td>\n",
       "      <td>BBAGGINS_UCSD_EDU_2</td>\n",
       "      <td>2/24/19</td>\n",
       "      <td>NaN</td>\n",
       "      <td>NaN</td>\n",
       "      <td>Y</td>\n",
       "      <td>8/10/18</td>\n",
       "      <td>-4</td>\n",
       "      <td>-4</td>\n",
       "      <td>-4</td>\n",
       "      <td>-4</td>\n",
       "      <td>-4</td>\n",
       "    </tr>\n",
       "    <tr>\n",
       "      <th>9</th>\n",
       "      <td>24</td>\n",
       "      <td>-4</td>\n",
       "      <td>20</td>\n",
       "      <td>2</td>\n",
       "      <td>w36</td>\n",
       "      <td>4</td>\n",
       "      <td>4</td>\n",
       "      <td>BBAGGINSD_UCSD_EDU_2</td>\n",
       "      <td>5/24/19</td>\n",
       "      <td>NaN</td>\n",
       "      <td>NaN</td>\n",
       "      <td>Y</td>\n",
       "      <td>8/10/18</td>\n",
       "      <td>-4</td>\n",
       "      <td>-4</td>\n",
       "      <td>-4</td>\n",
       "      <td>-4</td>\n",
       "      <td>-4</td>\n",
       "    </tr>\n",
       "    <tr>\n",
       "      <th>12</th>\n",
       "      <td>30</td>\n",
       "      <td>-4</td>\n",
       "      <td>19</td>\n",
       "      <td>1</td>\n",
       "      <td>w02</td>\n",
       "      <td>4</td>\n",
       "      <td>4</td>\n",
       "      <td>MORPHEUS_UCSD_EDU_2</td>\n",
       "      <td>8/9/18</td>\n",
       "      <td>NaN</td>\n",
       "      <td>NaN</td>\n",
       "      <td>Y</td>\n",
       "      <td>8/9/18</td>\n",
       "      <td>N</td>\n",
       "      <td>-4</td>\n",
       "      <td>Y</td>\n",
       "      <td>Y</td>\n",
       "      <td>-4</td>\n",
       "    </tr>\n",
       "    <tr>\n",
       "      <th>13</th>\n",
       "      <td>32</td>\n",
       "      <td>-4</td>\n",
       "      <td>17</td>\n",
       "      <td>2</td>\n",
       "      <td>w02</td>\n",
       "      <td>4</td>\n",
       "      <td>4</td>\n",
       "      <td>MORPHEUS_UCSD_EDU</td>\n",
       "      <td>8/9/18</td>\n",
       "      <td>NaN</td>\n",
       "      <td>NaN</td>\n",
       "      <td>Y</td>\n",
       "      <td>8/9/18</td>\n",
       "      <td>N</td>\n",
       "      <td>-4</td>\n",
       "      <td>Y</td>\n",
       "      <td>Y</td>\n",
       "      <td>-4</td>\n",
       "    </tr>\n",
       "  </tbody>\n",
       "</table>\n",
       "</div>"
      ],
      "text/plain": [
       "    ID  SX  RID  SITEID VISCODE  ENTRY  VERIFY                USERID  \\\n",
       "0    6  -4   19       1      sc      4       4   BBAGGINS_UCSD_EDU_2   \n",
       "1    8  -4   17       2      sc      4       4   BBAGGINS_UCSD_EDU_2   \n",
       "2   10  -4   20       2      sc      4       4   BBAGGINS_UCSD_EDU_2   \n",
       "4   14  -4   20       2     w02      4       4   BBAGGINS_UCSD_EDU_2   \n",
       "5   16  -4   20       2     w04      4       4   BBAGGINS_UCSD_EDU_2   \n",
       "6   18  -4   20       2     w08      4       4   BBAGGINS_UCSD_EDU_2   \n",
       "7   20  -4   20       2     w12      4       4   BBAGGINS_UCSD_EDU_2   \n",
       "8   22  -4   20       2     w24      4       4   BBAGGINS_UCSD_EDU_2   \n",
       "9   24  -4   20       2     w36      4       4  BBAGGINSD_UCSD_EDU_2   \n",
       "12  30  -4   19       1     w02      4       4   MORPHEUS_UCSD_EDU_2   \n",
       "13  32  -4   17       2     w02      4       4     MORPHEUS_UCSD_EDU   \n",
       "\n",
       "    USERDATE  USERID2  USERDATE2 SVPERF   SVSTDT SVRESCRN  SVPREVID SVCALL  \\\n",
       "0     8/9/18      NaN        NaN      Y   8/9/18        N        -4     -4   \n",
       "1     8/9/18      NaN        NaN      Y   8/9/18        N        -4     -4   \n",
       "2     8/9/18      NaN        NaN      Y   8/9/18        N        -4     -4   \n",
       "4    8/24/18      NaN        NaN      Y  8/10/18       -4        -4      Y   \n",
       "5    9/24/18      NaN        NaN      Y  8/10/18       -4        -4     -4   \n",
       "6   10/24/18      NaN        NaN      Y  8/10/18       -4        -4     -4   \n",
       "7   11/24/18      NaN        NaN      Y  8/10/18       -4        -4     -4   \n",
       "8    2/24/19      NaN        NaN      Y  8/10/18       -4        -4     -4   \n",
       "9    5/24/19      NaN        NaN      Y  8/10/18       -4        -4     -4   \n",
       "12    8/9/18      NaN        NaN      Y   8/9/18        N        -4      Y   \n",
       "13    8/9/18      NaN        NaN      Y   8/9/18        N        -4      Y   \n",
       "\n",
       "   SVDOSE  SVCOVAL  \n",
       "0      -4       -4  \n",
       "1      -4       -4  \n",
       "2      -4       -4  \n",
       "4       Y       -4  \n",
       "5      -4       -4  \n",
       "6      -4       -4  \n",
       "7      -4       -4  \n",
       "8      -4       -4  \n",
       "9      -4       -4  \n",
       "12      Y       -4  \n",
       "13      Y       -4  "
      ]
     },
     "execution_count": 97,
     "metadata": {},
     "output_type": "execute_result"
    }
   ],
   "source": [
    "filter_not_df(t2_registry,\"VISCODE\", \"bl\")\n"
   ]
  },
  {
   "cell_type": "code",
   "execution_count": null,
   "metadata": {},
   "outputs": [],
   "source": [
    "def left_mergedf(df1, df2, c1, c2):\n",
    "    return "
   ]
  },
  {
   "cell_type": "code",
   "execution_count": 19,
   "metadata": {},
   "outputs": [
    {
     "data": {
      "text/html": [
       "<div>\n",
       "<style scoped>\n",
       "    .dataframe tbody tr th:only-of-type {\n",
       "        vertical-align: middle;\n",
       "    }\n",
       "\n",
       "    .dataframe tbody tr th {\n",
       "        vertical-align: top;\n",
       "    }\n",
       "\n",
       "    .dataframe thead th {\n",
       "        text-align: right;\n",
       "    }\n",
       "</style>\n",
       "<table border=\"1\" class=\"dataframe\">\n",
       "  <thead>\n",
       "    <tr style=\"text-align: right;\">\n",
       "      <th></th>\n",
       "      <th>ID</th>\n",
       "      <th>SX</th>\n",
       "      <th>RID</th>\n",
       "      <th>SITEID</th>\n",
       "      <th>VISCODE</th>\n",
       "      <th>ENTRY</th>\n",
       "      <th>VERIFY</th>\n",
       "      <th>USERID</th>\n",
       "      <th>USERDATE</th>\n",
       "      <th>USERID2</th>\n",
       "      <th>USERDATE2</th>\n",
       "      <th>SVPERF</th>\n",
       "      <th>SVSTDT</th>\n",
       "      <th>SVRESCRN</th>\n",
       "      <th>SVPREVID</th>\n",
       "      <th>SVCALL</th>\n",
       "      <th>SVDOSE</th>\n",
       "      <th>SVCOVAL</th>\n",
       "    </tr>\n",
       "  </thead>\n",
       "  <tbody>\n",
       "    <tr>\n",
       "      <th>0</th>\n",
       "      <td>6</td>\n",
       "      <td>-4</td>\n",
       "      <td>19</td>\n",
       "      <td>1</td>\n",
       "      <td>sc</td>\n",
       "      <td>4</td>\n",
       "      <td>4</td>\n",
       "      <td>BBAGGINS_UCSD_EDU_2</td>\n",
       "      <td>8/9/18</td>\n",
       "      <td>NaN</td>\n",
       "      <td>NaN</td>\n",
       "      <td>Y</td>\n",
       "      <td>8/9/18</td>\n",
       "      <td>N</td>\n",
       "      <td>-4</td>\n",
       "      <td>-4</td>\n",
       "      <td>-4</td>\n",
       "      <td>-4</td>\n",
       "    </tr>\n",
       "    <tr>\n",
       "      <th>1</th>\n",
       "      <td>8</td>\n",
       "      <td>-4</td>\n",
       "      <td>17</td>\n",
       "      <td>2</td>\n",
       "      <td>sc</td>\n",
       "      <td>4</td>\n",
       "      <td>4</td>\n",
       "      <td>BBAGGINS_UCSD_EDU_2</td>\n",
       "      <td>8/9/18</td>\n",
       "      <td>NaN</td>\n",
       "      <td>NaN</td>\n",
       "      <td>Y</td>\n",
       "      <td>8/9/18</td>\n",
       "      <td>N</td>\n",
       "      <td>-4</td>\n",
       "      <td>-4</td>\n",
       "      <td>-4</td>\n",
       "      <td>-4</td>\n",
       "    </tr>\n",
       "    <tr>\n",
       "      <th>2</th>\n",
       "      <td>10</td>\n",
       "      <td>-4</td>\n",
       "      <td>20</td>\n",
       "      <td>2</td>\n",
       "      <td>sc</td>\n",
       "      <td>4</td>\n",
       "      <td>4</td>\n",
       "      <td>BBAGGINS_UCSD_EDU_2</td>\n",
       "      <td>8/9/18</td>\n",
       "      <td>NaN</td>\n",
       "      <td>NaN</td>\n",
       "      <td>Y</td>\n",
       "      <td>8/9/18</td>\n",
       "      <td>N</td>\n",
       "      <td>-4</td>\n",
       "      <td>-4</td>\n",
       "      <td>-4</td>\n",
       "      <td>-4</td>\n",
       "    </tr>\n",
       "    <tr>\n",
       "      <th>4</th>\n",
       "      <td>14</td>\n",
       "      <td>-4</td>\n",
       "      <td>20</td>\n",
       "      <td>2</td>\n",
       "      <td>w02</td>\n",
       "      <td>4</td>\n",
       "      <td>4</td>\n",
       "      <td>BBAGGINS_UCSD_EDU_2</td>\n",
       "      <td>8/24/18</td>\n",
       "      <td>NaN</td>\n",
       "      <td>NaN</td>\n",
       "      <td>Y</td>\n",
       "      <td>8/10/18</td>\n",
       "      <td>-4</td>\n",
       "      <td>-4</td>\n",
       "      <td>Y</td>\n",
       "      <td>Y</td>\n",
       "      <td>-4</td>\n",
       "    </tr>\n",
       "    <tr>\n",
       "      <th>5</th>\n",
       "      <td>16</td>\n",
       "      <td>-4</td>\n",
       "      <td>20</td>\n",
       "      <td>2</td>\n",
       "      <td>w04</td>\n",
       "      <td>4</td>\n",
       "      <td>4</td>\n",
       "      <td>BBAGGINS_UCSD_EDU_2</td>\n",
       "      <td>9/24/18</td>\n",
       "      <td>NaN</td>\n",
       "      <td>NaN</td>\n",
       "      <td>Y</td>\n",
       "      <td>8/10/18</td>\n",
       "      <td>-4</td>\n",
       "      <td>-4</td>\n",
       "      <td>-4</td>\n",
       "      <td>-4</td>\n",
       "      <td>-4</td>\n",
       "    </tr>\n",
       "  </tbody>\n",
       "</table>\n",
       "</div>"
      ],
      "text/plain": [
       "   ID  SX  RID  SITEID VISCODE  ENTRY  VERIFY               USERID USERDATE  \\\n",
       "0   6  -4   19       1      sc      4       4  BBAGGINS_UCSD_EDU_2   8/9/18   \n",
       "1   8  -4   17       2      sc      4       4  BBAGGINS_UCSD_EDU_2   8/9/18   \n",
       "2  10  -4   20       2      sc      4       4  BBAGGINS_UCSD_EDU_2   8/9/18   \n",
       "4  14  -4   20       2     w02      4       4  BBAGGINS_UCSD_EDU_2  8/24/18   \n",
       "5  16  -4   20       2     w04      4       4  BBAGGINS_UCSD_EDU_2  9/24/18   \n",
       "\n",
       "   USERID2  USERDATE2 SVPERF   SVSTDT SVRESCRN  SVPREVID SVCALL SVDOSE  \\\n",
       "0      NaN        NaN      Y   8/9/18        N        -4     -4     -4   \n",
       "1      NaN        NaN      Y   8/9/18        N        -4     -4     -4   \n",
       "2      NaN        NaN      Y   8/9/18        N        -4     -4     -4   \n",
       "4      NaN        NaN      Y  8/10/18       -4        -4      Y      Y   \n",
       "5      NaN        NaN      Y  8/10/18       -4        -4     -4     -4   \n",
       "\n",
       "   SVCOVAL  \n",
       "0       -4  \n",
       "1       -4  \n",
       "2       -4  \n",
       "4       -4  \n",
       "5       -4  "
      ]
     },
     "execution_count": 19,
     "metadata": {},
     "output_type": "execute_result"
    }
   ],
   "source": [
    "pie_chart_filter = t2_registry.loc[(t2_registry[\"VISCODE\"] != \"bl\"), :]\n",
    "pie_chart_filter = pie_chart_data.loc[(pie_chart_data[\"SVPERF\"] == \"Y\"), :]\n",
    "pie_chart_filter.head()"
   ]
  },
  {
   "cell_type": "code",
   "execution_count": 35,
   "metadata": {},
   "outputs": [
    {
     "data": {
      "text/plain": [
       "w02    3\n",
       "sc     3\n",
       "w12    1\n",
       "w36    1\n",
       "w24    1\n",
       "w04    1\n",
       "w08    1\n",
       "Name: VISCODE, dtype: int64"
      ]
     },
     "execution_count": 35,
     "metadata": {},
     "output_type": "execute_result"
    }
   ],
   "source": [
    "pie_chart_data = pie_chart_filter['VISCODE'].value_counts()\n",
    "pie_chart_data\n"
   ]
  },
  {
   "cell_type": "code",
   "execution_count": 34,
   "metadata": {},
   "outputs": [
    {
     "data": {
      "text/plain": [
       "'w02'"
      ]
     },
     "execution_count": 34,
     "metadata": {},
     "output_type": "execute_result"
    }
   ],
   "source": [
    "pie_chart_index = pie_chart_data.index\n",
    "pie_chart_index[0]"
   ]
  },
  {
   "cell_type": "code",
   "execution_count": 77,
   "metadata": {
    "scrolled": true
   },
   "outputs": [
    {
     "data": {
      "application/vnd.plotly.v1+json": {
       "config": {
        "plotlyServerURL": "https://plot.ly"
       },
       "data": [
        {
         "hovertemplate": "VISCODE: %{label} <br> Count: %{value} (%{percent})",
         "labels": [
          "w02",
          "sc",
          "w12",
          "w36",
          "w24",
          "w04",
          "w08"
         ],
         "type": "pie",
         "values": [
          3,
          3,
          1,
          1,
          1,
          1,
          1
         ]
        }
       ],
       "layout": {
        "template": {
         "data": {
          "bar": [
           {
            "error_x": {
             "color": "#2a3f5f"
            },
            "error_y": {
             "color": "#2a3f5f"
            },
            "marker": {
             "line": {
              "color": "#E5ECF6",
              "width": 0.5
             }
            },
            "type": "bar"
           }
          ],
          "barpolar": [
           {
            "marker": {
             "line": {
              "color": "#E5ECF6",
              "width": 0.5
             }
            },
            "type": "barpolar"
           }
          ],
          "carpet": [
           {
            "aaxis": {
             "endlinecolor": "#2a3f5f",
             "gridcolor": "white",
             "linecolor": "white",
             "minorgridcolor": "white",
             "startlinecolor": "#2a3f5f"
            },
            "baxis": {
             "endlinecolor": "#2a3f5f",
             "gridcolor": "white",
             "linecolor": "white",
             "minorgridcolor": "white",
             "startlinecolor": "#2a3f5f"
            },
            "type": "carpet"
           }
          ],
          "choropleth": [
           {
            "colorbar": {
             "outlinewidth": 0,
             "ticks": ""
            },
            "type": "choropleth"
           }
          ],
          "contour": [
           {
            "colorbar": {
             "outlinewidth": 0,
             "ticks": ""
            },
            "colorscale": [
             [
              0,
              "#0d0887"
             ],
             [
              0.1111111111111111,
              "#46039f"
             ],
             [
              0.2222222222222222,
              "#7201a8"
             ],
             [
              0.3333333333333333,
              "#9c179e"
             ],
             [
              0.4444444444444444,
              "#bd3786"
             ],
             [
              0.5555555555555556,
              "#d8576b"
             ],
             [
              0.6666666666666666,
              "#ed7953"
             ],
             [
              0.7777777777777778,
              "#fb9f3a"
             ],
             [
              0.8888888888888888,
              "#fdca26"
             ],
             [
              1,
              "#f0f921"
             ]
            ],
            "type": "contour"
           }
          ],
          "contourcarpet": [
           {
            "colorbar": {
             "outlinewidth": 0,
             "ticks": ""
            },
            "type": "contourcarpet"
           }
          ],
          "heatmap": [
           {
            "colorbar": {
             "outlinewidth": 0,
             "ticks": ""
            },
            "colorscale": [
             [
              0,
              "#0d0887"
             ],
             [
              0.1111111111111111,
              "#46039f"
             ],
             [
              0.2222222222222222,
              "#7201a8"
             ],
             [
              0.3333333333333333,
              "#9c179e"
             ],
             [
              0.4444444444444444,
              "#bd3786"
             ],
             [
              0.5555555555555556,
              "#d8576b"
             ],
             [
              0.6666666666666666,
              "#ed7953"
             ],
             [
              0.7777777777777778,
              "#fb9f3a"
             ],
             [
              0.8888888888888888,
              "#fdca26"
             ],
             [
              1,
              "#f0f921"
             ]
            ],
            "type": "heatmap"
           }
          ],
          "heatmapgl": [
           {
            "colorbar": {
             "outlinewidth": 0,
             "ticks": ""
            },
            "colorscale": [
             [
              0,
              "#0d0887"
             ],
             [
              0.1111111111111111,
              "#46039f"
             ],
             [
              0.2222222222222222,
              "#7201a8"
             ],
             [
              0.3333333333333333,
              "#9c179e"
             ],
             [
              0.4444444444444444,
              "#bd3786"
             ],
             [
              0.5555555555555556,
              "#d8576b"
             ],
             [
              0.6666666666666666,
              "#ed7953"
             ],
             [
              0.7777777777777778,
              "#fb9f3a"
             ],
             [
              0.8888888888888888,
              "#fdca26"
             ],
             [
              1,
              "#f0f921"
             ]
            ],
            "type": "heatmapgl"
           }
          ],
          "histogram": [
           {
            "marker": {
             "colorbar": {
              "outlinewidth": 0,
              "ticks": ""
             }
            },
            "type": "histogram"
           }
          ],
          "histogram2d": [
           {
            "colorbar": {
             "outlinewidth": 0,
             "ticks": ""
            },
            "colorscale": [
             [
              0,
              "#0d0887"
             ],
             [
              0.1111111111111111,
              "#46039f"
             ],
             [
              0.2222222222222222,
              "#7201a8"
             ],
             [
              0.3333333333333333,
              "#9c179e"
             ],
             [
              0.4444444444444444,
              "#bd3786"
             ],
             [
              0.5555555555555556,
              "#d8576b"
             ],
             [
              0.6666666666666666,
              "#ed7953"
             ],
             [
              0.7777777777777778,
              "#fb9f3a"
             ],
             [
              0.8888888888888888,
              "#fdca26"
             ],
             [
              1,
              "#f0f921"
             ]
            ],
            "type": "histogram2d"
           }
          ],
          "histogram2dcontour": [
           {
            "colorbar": {
             "outlinewidth": 0,
             "ticks": ""
            },
            "colorscale": [
             [
              0,
              "#0d0887"
             ],
             [
              0.1111111111111111,
              "#46039f"
             ],
             [
              0.2222222222222222,
              "#7201a8"
             ],
             [
              0.3333333333333333,
              "#9c179e"
             ],
             [
              0.4444444444444444,
              "#bd3786"
             ],
             [
              0.5555555555555556,
              "#d8576b"
             ],
             [
              0.6666666666666666,
              "#ed7953"
             ],
             [
              0.7777777777777778,
              "#fb9f3a"
             ],
             [
              0.8888888888888888,
              "#fdca26"
             ],
             [
              1,
              "#f0f921"
             ]
            ],
            "type": "histogram2dcontour"
           }
          ],
          "mesh3d": [
           {
            "colorbar": {
             "outlinewidth": 0,
             "ticks": ""
            },
            "type": "mesh3d"
           }
          ],
          "parcoords": [
           {
            "line": {
             "colorbar": {
              "outlinewidth": 0,
              "ticks": ""
             }
            },
            "type": "parcoords"
           }
          ],
          "scatter": [
           {
            "marker": {
             "colorbar": {
              "outlinewidth": 0,
              "ticks": ""
             }
            },
            "type": "scatter"
           }
          ],
          "scatter3d": [
           {
            "line": {
             "colorbar": {
              "outlinewidth": 0,
              "ticks": ""
             }
            },
            "marker": {
             "colorbar": {
              "outlinewidth": 0,
              "ticks": ""
             }
            },
            "type": "scatter3d"
           }
          ],
          "scattercarpet": [
           {
            "marker": {
             "colorbar": {
              "outlinewidth": 0,
              "ticks": ""
             }
            },
            "type": "scattercarpet"
           }
          ],
          "scattergeo": [
           {
            "marker": {
             "colorbar": {
              "outlinewidth": 0,
              "ticks": ""
             }
            },
            "type": "scattergeo"
           }
          ],
          "scattergl": [
           {
            "marker": {
             "colorbar": {
              "outlinewidth": 0,
              "ticks": ""
             }
            },
            "type": "scattergl"
           }
          ],
          "scattermapbox": [
           {
            "marker": {
             "colorbar": {
              "outlinewidth": 0,
              "ticks": ""
             }
            },
            "type": "scattermapbox"
           }
          ],
          "scatterpolar": [
           {
            "marker": {
             "colorbar": {
              "outlinewidth": 0,
              "ticks": ""
             }
            },
            "type": "scatterpolar"
           }
          ],
          "scatterpolargl": [
           {
            "marker": {
             "colorbar": {
              "outlinewidth": 0,
              "ticks": ""
             }
            },
            "type": "scatterpolargl"
           }
          ],
          "scatterternary": [
           {
            "marker": {
             "colorbar": {
              "outlinewidth": 0,
              "ticks": ""
             }
            },
            "type": "scatterternary"
           }
          ],
          "surface": [
           {
            "colorbar": {
             "outlinewidth": 0,
             "ticks": ""
            },
            "colorscale": [
             [
              0,
              "#0d0887"
             ],
             [
              0.1111111111111111,
              "#46039f"
             ],
             [
              0.2222222222222222,
              "#7201a8"
             ],
             [
              0.3333333333333333,
              "#9c179e"
             ],
             [
              0.4444444444444444,
              "#bd3786"
             ],
             [
              0.5555555555555556,
              "#d8576b"
             ],
             [
              0.6666666666666666,
              "#ed7953"
             ],
             [
              0.7777777777777778,
              "#fb9f3a"
             ],
             [
              0.8888888888888888,
              "#fdca26"
             ],
             [
              1,
              "#f0f921"
             ]
            ],
            "type": "surface"
           }
          ],
          "table": [
           {
            "cells": {
             "fill": {
              "color": "#EBF0F8"
             },
             "line": {
              "color": "white"
             }
            },
            "header": {
             "fill": {
              "color": "#C8D4E3"
             },
             "line": {
              "color": "white"
             }
            },
            "type": "table"
           }
          ]
         },
         "layout": {
          "annotationdefaults": {
           "arrowcolor": "#2a3f5f",
           "arrowhead": 0,
           "arrowwidth": 1
          },
          "colorscale": {
           "diverging": [
            [
             0,
             "#8e0152"
            ],
            [
             0.1,
             "#c51b7d"
            ],
            [
             0.2,
             "#de77ae"
            ],
            [
             0.3,
             "#f1b6da"
            ],
            [
             0.4,
             "#fde0ef"
            ],
            [
             0.5,
             "#f7f7f7"
            ],
            [
             0.6,
             "#e6f5d0"
            ],
            [
             0.7,
             "#b8e186"
            ],
            [
             0.8,
             "#7fbc41"
            ],
            [
             0.9,
             "#4d9221"
            ],
            [
             1,
             "#276419"
            ]
           ],
           "sequential": [
            [
             0,
             "#0d0887"
            ],
            [
             0.1111111111111111,
             "#46039f"
            ],
            [
             0.2222222222222222,
             "#7201a8"
            ],
            [
             0.3333333333333333,
             "#9c179e"
            ],
            [
             0.4444444444444444,
             "#bd3786"
            ],
            [
             0.5555555555555556,
             "#d8576b"
            ],
            [
             0.6666666666666666,
             "#ed7953"
            ],
            [
             0.7777777777777778,
             "#fb9f3a"
            ],
            [
             0.8888888888888888,
             "#fdca26"
            ],
            [
             1,
             "#f0f921"
            ]
           ],
           "sequentialminus": [
            [
             0,
             "#0d0887"
            ],
            [
             0.1111111111111111,
             "#46039f"
            ],
            [
             0.2222222222222222,
             "#7201a8"
            ],
            [
             0.3333333333333333,
             "#9c179e"
            ],
            [
             0.4444444444444444,
             "#bd3786"
            ],
            [
             0.5555555555555556,
             "#d8576b"
            ],
            [
             0.6666666666666666,
             "#ed7953"
            ],
            [
             0.7777777777777778,
             "#fb9f3a"
            ],
            [
             0.8888888888888888,
             "#fdca26"
            ],
            [
             1,
             "#f0f921"
            ]
           ]
          },
          "colorway": [
           "#636efa",
           "#EF553B",
           "#00cc96",
           "#ab63fa",
           "#FFA15A",
           "#19d3f3",
           "#FF6692",
           "#B6E880",
           "#FF97FF",
           "#FECB52"
          ],
          "font": {
           "color": "#2a3f5f"
          },
          "geo": {
           "bgcolor": "white",
           "lakecolor": "white",
           "landcolor": "#E5ECF6",
           "showlakes": true,
           "showland": true,
           "subunitcolor": "white"
          },
          "hoverlabel": {
           "align": "left"
          },
          "hovermode": "closest",
          "mapbox": {
           "style": "light"
          },
          "paper_bgcolor": "white",
          "plot_bgcolor": "#E5ECF6",
          "polar": {
           "angularaxis": {
            "gridcolor": "white",
            "linecolor": "white",
            "ticks": ""
           },
           "bgcolor": "#E5ECF6",
           "radialaxis": {
            "gridcolor": "white",
            "linecolor": "white",
            "ticks": ""
           }
          },
          "scene": {
           "xaxis": {
            "backgroundcolor": "#E5ECF6",
            "gridcolor": "white",
            "gridwidth": 2,
            "linecolor": "white",
            "showbackground": true,
            "ticks": "",
            "zerolinecolor": "white"
           },
           "yaxis": {
            "backgroundcolor": "#E5ECF6",
            "gridcolor": "white",
            "gridwidth": 2,
            "linecolor": "white",
            "showbackground": true,
            "ticks": "",
            "zerolinecolor": "white"
           },
           "zaxis": {
            "backgroundcolor": "#E5ECF6",
            "gridcolor": "white",
            "gridwidth": 2,
            "linecolor": "white",
            "showbackground": true,
            "ticks": "",
            "zerolinecolor": "white"
           }
          },
          "shapedefaults": {
           "line": {
            "color": "#2a3f5f"
           }
          },
          "ternary": {
           "aaxis": {
            "gridcolor": "white",
            "linecolor": "white",
            "ticks": ""
           },
           "baxis": {
            "gridcolor": "white",
            "linecolor": "white",
            "ticks": ""
           },
           "bgcolor": "#E5ECF6",
           "caxis": {
            "gridcolor": "white",
            "linecolor": "white",
            "ticks": ""
           }
          },
          "title": {
           "x": 0.05
          },
          "xaxis": {
           "automargin": true,
           "gridcolor": "white",
           "linecolor": "white",
           "ticks": "",
           "zerolinecolor": "white",
           "zerolinewidth": 2
          },
          "yaxis": {
           "automargin": true,
           "gridcolor": "white",
           "linecolor": "white",
           "ticks": "",
           "zerolinecolor": "white",
           "zerolinewidth": 2
          }
         }
        },
        "title": {
         "text": "Viscodes from Registry"
        }
       }
      },
      "text/html": [
       "<div>\n",
       "        \n",
       "        \n",
       "            <div id=\"184a696b-541b-4e70-86dd-b802e248fc0d\" class=\"plotly-graph-div\" style=\"height:525px; width:100%;\"></div>\n",
       "            <script type=\"text/javascript\">\n",
       "                require([\"plotly\"], function(Plotly) {\n",
       "                    window.PLOTLYENV=window.PLOTLYENV || {};\n",
       "                    \n",
       "                if (document.getElementById(\"184a696b-541b-4e70-86dd-b802e248fc0d\")) {\n",
       "                    Plotly.newPlot(\n",
       "                        '184a696b-541b-4e70-86dd-b802e248fc0d',\n",
       "                        [{\"hovertemplate\": \"VISCODE: %{label} <br> Count: %{value} (%{percent})\", \"labels\": [\"w02\", \"sc\", \"w12\", \"w36\", \"w24\", \"w04\", \"w08\"], \"type\": \"pie\", \"values\": [3, 3, 1, 1, 1, 1, 1]}],\n",
       "                        {\"template\": {\"data\": {\"bar\": [{\"error_x\": {\"color\": \"#2a3f5f\"}, \"error_y\": {\"color\": \"#2a3f5f\"}, \"marker\": {\"line\": {\"color\": \"#E5ECF6\", \"width\": 0.5}}, \"type\": \"bar\"}], \"barpolar\": [{\"marker\": {\"line\": {\"color\": \"#E5ECF6\", \"width\": 0.5}}, \"type\": \"barpolar\"}], \"carpet\": [{\"aaxis\": {\"endlinecolor\": \"#2a3f5f\", \"gridcolor\": \"white\", \"linecolor\": \"white\", \"minorgridcolor\": \"white\", \"startlinecolor\": \"#2a3f5f\"}, \"baxis\": {\"endlinecolor\": \"#2a3f5f\", \"gridcolor\": \"white\", \"linecolor\": \"white\", \"minorgridcolor\": \"white\", \"startlinecolor\": \"#2a3f5f\"}, \"type\": \"carpet\"}], \"choropleth\": [{\"colorbar\": {\"outlinewidth\": 0, \"ticks\": \"\"}, \"type\": \"choropleth\"}], \"contour\": [{\"colorbar\": {\"outlinewidth\": 0, \"ticks\": \"\"}, \"colorscale\": [[0.0, \"#0d0887\"], [0.1111111111111111, \"#46039f\"], [0.2222222222222222, \"#7201a8\"], [0.3333333333333333, \"#9c179e\"], [0.4444444444444444, \"#bd3786\"], [0.5555555555555556, \"#d8576b\"], [0.6666666666666666, \"#ed7953\"], [0.7777777777777778, \"#fb9f3a\"], [0.8888888888888888, \"#fdca26\"], [1.0, \"#f0f921\"]], \"type\": \"contour\"}], \"contourcarpet\": [{\"colorbar\": {\"outlinewidth\": 0, \"ticks\": \"\"}, \"type\": \"contourcarpet\"}], \"heatmap\": [{\"colorbar\": {\"outlinewidth\": 0, \"ticks\": \"\"}, \"colorscale\": [[0.0, \"#0d0887\"], [0.1111111111111111, \"#46039f\"], [0.2222222222222222, \"#7201a8\"], [0.3333333333333333, \"#9c179e\"], [0.4444444444444444, \"#bd3786\"], [0.5555555555555556, \"#d8576b\"], [0.6666666666666666, \"#ed7953\"], [0.7777777777777778, \"#fb9f3a\"], [0.8888888888888888, \"#fdca26\"], [1.0, \"#f0f921\"]], \"type\": \"heatmap\"}], \"heatmapgl\": [{\"colorbar\": {\"outlinewidth\": 0, \"ticks\": \"\"}, \"colorscale\": [[0.0, \"#0d0887\"], [0.1111111111111111, \"#46039f\"], [0.2222222222222222, \"#7201a8\"], [0.3333333333333333, \"#9c179e\"], [0.4444444444444444, \"#bd3786\"], [0.5555555555555556, \"#d8576b\"], [0.6666666666666666, \"#ed7953\"], [0.7777777777777778, \"#fb9f3a\"], [0.8888888888888888, \"#fdca26\"], [1.0, \"#f0f921\"]], \"type\": \"heatmapgl\"}], \"histogram\": [{\"marker\": {\"colorbar\": {\"outlinewidth\": 0, \"ticks\": \"\"}}, \"type\": \"histogram\"}], \"histogram2d\": [{\"colorbar\": {\"outlinewidth\": 0, \"ticks\": \"\"}, \"colorscale\": [[0.0, \"#0d0887\"], [0.1111111111111111, \"#46039f\"], [0.2222222222222222, \"#7201a8\"], [0.3333333333333333, \"#9c179e\"], [0.4444444444444444, \"#bd3786\"], [0.5555555555555556, \"#d8576b\"], [0.6666666666666666, \"#ed7953\"], [0.7777777777777778, \"#fb9f3a\"], [0.8888888888888888, \"#fdca26\"], [1.0, \"#f0f921\"]], \"type\": \"histogram2d\"}], \"histogram2dcontour\": [{\"colorbar\": {\"outlinewidth\": 0, \"ticks\": \"\"}, \"colorscale\": [[0.0, \"#0d0887\"], [0.1111111111111111, \"#46039f\"], [0.2222222222222222, \"#7201a8\"], [0.3333333333333333, \"#9c179e\"], [0.4444444444444444, \"#bd3786\"], [0.5555555555555556, \"#d8576b\"], [0.6666666666666666, \"#ed7953\"], [0.7777777777777778, \"#fb9f3a\"], [0.8888888888888888, \"#fdca26\"], [1.0, \"#f0f921\"]], \"type\": \"histogram2dcontour\"}], \"mesh3d\": [{\"colorbar\": {\"outlinewidth\": 0, \"ticks\": \"\"}, \"type\": \"mesh3d\"}], \"parcoords\": [{\"line\": {\"colorbar\": {\"outlinewidth\": 0, \"ticks\": \"\"}}, \"type\": \"parcoords\"}], \"scatter\": [{\"marker\": {\"colorbar\": {\"outlinewidth\": 0, \"ticks\": \"\"}}, \"type\": \"scatter\"}], \"scatter3d\": [{\"line\": {\"colorbar\": {\"outlinewidth\": 0, \"ticks\": \"\"}}, \"marker\": {\"colorbar\": {\"outlinewidth\": 0, \"ticks\": \"\"}}, \"type\": \"scatter3d\"}], \"scattercarpet\": [{\"marker\": {\"colorbar\": {\"outlinewidth\": 0, \"ticks\": \"\"}}, \"type\": \"scattercarpet\"}], \"scattergeo\": [{\"marker\": {\"colorbar\": {\"outlinewidth\": 0, \"ticks\": \"\"}}, \"type\": \"scattergeo\"}], \"scattergl\": [{\"marker\": {\"colorbar\": {\"outlinewidth\": 0, \"ticks\": \"\"}}, \"type\": \"scattergl\"}], \"scattermapbox\": [{\"marker\": {\"colorbar\": {\"outlinewidth\": 0, \"ticks\": \"\"}}, \"type\": \"scattermapbox\"}], \"scatterpolar\": [{\"marker\": {\"colorbar\": {\"outlinewidth\": 0, \"ticks\": \"\"}}, \"type\": \"scatterpolar\"}], \"scatterpolargl\": [{\"marker\": {\"colorbar\": {\"outlinewidth\": 0, \"ticks\": \"\"}}, \"type\": \"scatterpolargl\"}], \"scatterternary\": [{\"marker\": {\"colorbar\": {\"outlinewidth\": 0, \"ticks\": \"\"}}, \"type\": \"scatterternary\"}], \"surface\": [{\"colorbar\": {\"outlinewidth\": 0, \"ticks\": \"\"}, \"colorscale\": [[0.0, \"#0d0887\"], [0.1111111111111111, \"#46039f\"], [0.2222222222222222, \"#7201a8\"], [0.3333333333333333, \"#9c179e\"], [0.4444444444444444, \"#bd3786\"], [0.5555555555555556, \"#d8576b\"], [0.6666666666666666, \"#ed7953\"], [0.7777777777777778, \"#fb9f3a\"], [0.8888888888888888, \"#fdca26\"], [1.0, \"#f0f921\"]], \"type\": \"surface\"}], \"table\": [{\"cells\": {\"fill\": {\"color\": \"#EBF0F8\"}, \"line\": {\"color\": \"white\"}}, \"header\": {\"fill\": {\"color\": \"#C8D4E3\"}, \"line\": {\"color\": \"white\"}}, \"type\": \"table\"}]}, \"layout\": {\"annotationdefaults\": {\"arrowcolor\": \"#2a3f5f\", \"arrowhead\": 0, \"arrowwidth\": 1}, \"colorscale\": {\"diverging\": [[0, \"#8e0152\"], [0.1, \"#c51b7d\"], [0.2, \"#de77ae\"], [0.3, \"#f1b6da\"], [0.4, \"#fde0ef\"], [0.5, \"#f7f7f7\"], [0.6, \"#e6f5d0\"], [0.7, \"#b8e186\"], [0.8, \"#7fbc41\"], [0.9, \"#4d9221\"], [1, \"#276419\"]], \"sequential\": [[0.0, \"#0d0887\"], [0.1111111111111111, \"#46039f\"], [0.2222222222222222, \"#7201a8\"], [0.3333333333333333, \"#9c179e\"], [0.4444444444444444, \"#bd3786\"], [0.5555555555555556, \"#d8576b\"], [0.6666666666666666, \"#ed7953\"], [0.7777777777777778, \"#fb9f3a\"], [0.8888888888888888, \"#fdca26\"], [1.0, \"#f0f921\"]], \"sequentialminus\": [[0.0, \"#0d0887\"], [0.1111111111111111, \"#46039f\"], [0.2222222222222222, \"#7201a8\"], [0.3333333333333333, \"#9c179e\"], [0.4444444444444444, \"#bd3786\"], [0.5555555555555556, \"#d8576b\"], [0.6666666666666666, \"#ed7953\"], [0.7777777777777778, \"#fb9f3a\"], [0.8888888888888888, \"#fdca26\"], [1.0, \"#f0f921\"]]}, \"colorway\": [\"#636efa\", \"#EF553B\", \"#00cc96\", \"#ab63fa\", \"#FFA15A\", \"#19d3f3\", \"#FF6692\", \"#B6E880\", \"#FF97FF\", \"#FECB52\"], \"font\": {\"color\": \"#2a3f5f\"}, \"geo\": {\"bgcolor\": \"white\", \"lakecolor\": \"white\", \"landcolor\": \"#E5ECF6\", \"showlakes\": true, \"showland\": true, \"subunitcolor\": \"white\"}, \"hoverlabel\": {\"align\": \"left\"}, \"hovermode\": \"closest\", \"mapbox\": {\"style\": \"light\"}, \"paper_bgcolor\": \"white\", \"plot_bgcolor\": \"#E5ECF6\", \"polar\": {\"angularaxis\": {\"gridcolor\": \"white\", \"linecolor\": \"white\", \"ticks\": \"\"}, \"bgcolor\": \"#E5ECF6\", \"radialaxis\": {\"gridcolor\": \"white\", \"linecolor\": \"white\", \"ticks\": \"\"}}, \"scene\": {\"xaxis\": {\"backgroundcolor\": \"#E5ECF6\", \"gridcolor\": \"white\", \"gridwidth\": 2, \"linecolor\": \"white\", \"showbackground\": true, \"ticks\": \"\", \"zerolinecolor\": \"white\"}, \"yaxis\": {\"backgroundcolor\": \"#E5ECF6\", \"gridcolor\": \"white\", \"gridwidth\": 2, \"linecolor\": \"white\", \"showbackground\": true, \"ticks\": \"\", \"zerolinecolor\": \"white\"}, \"zaxis\": {\"backgroundcolor\": \"#E5ECF6\", \"gridcolor\": \"white\", \"gridwidth\": 2, \"linecolor\": \"white\", \"showbackground\": true, \"ticks\": \"\", \"zerolinecolor\": \"white\"}}, \"shapedefaults\": {\"line\": {\"color\": \"#2a3f5f\"}}, \"ternary\": {\"aaxis\": {\"gridcolor\": \"white\", \"linecolor\": \"white\", \"ticks\": \"\"}, \"baxis\": {\"gridcolor\": \"white\", \"linecolor\": \"white\", \"ticks\": \"\"}, \"bgcolor\": \"#E5ECF6\", \"caxis\": {\"gridcolor\": \"white\", \"linecolor\": \"white\", \"ticks\": \"\"}}, \"title\": {\"x\": 0.05}, \"xaxis\": {\"automargin\": true, \"gridcolor\": \"white\", \"linecolor\": \"white\", \"ticks\": \"\", \"zerolinecolor\": \"white\", \"zerolinewidth\": 2}, \"yaxis\": {\"automargin\": true, \"gridcolor\": \"white\", \"linecolor\": \"white\", \"ticks\": \"\", \"zerolinecolor\": \"white\", \"zerolinewidth\": 2}}}, \"title\": {\"text\": \"Viscodes from Registry\"}},\n",
       "                        {\"responsive\": true}\n",
       "                    ).then(function(){\n",
       "                            \n",
       "var gd = document.getElementById('184a696b-541b-4e70-86dd-b802e248fc0d');\n",
       "var x = new MutationObserver(function (mutations, observer) {{\n",
       "        var display = window.getComputedStyle(gd).display;\n",
       "        if (!display || display === 'none') {{\n",
       "            console.log([gd, 'removed!']);\n",
       "            Plotly.purge(gd);\n",
       "            observer.disconnect();\n",
       "        }}\n",
       "}});\n",
       "\n",
       "// Listen for the removal of the full notebook cells\n",
       "var notebookContainer = gd.closest('#notebook-container');\n",
       "if (notebookContainer) {{\n",
       "    x.observe(notebookContainer, {childList: true});\n",
       "}}\n",
       "\n",
       "// Listen for the clearing of the current output cell\n",
       "var outputEl = gd.closest('.output');\n",
       "if (outputEl) {{\n",
       "    x.observe(outputEl, {childList: true});\n",
       "}}\n",
       "\n",
       "                        })\n",
       "                };\n",
       "                });\n",
       "            </script>\n",
       "        </div>"
      ]
     },
     "metadata": {},
     "output_type": "display_data"
    }
   ],
   "source": [
    "import plotly.graph_objects as go\n",
    "\n",
    "labels = pie_chart_index\n",
    "values = pie_chart_data\n",
    "\n",
    "fig = go.Figure(go.Pie(labels=labels, values=values, \n",
    "                hovertemplate = 'VISCODE: %{label} <br> Count: %{value} (%{percent})'))\n",
    "fig.update_layout(title_text=\"Viscodes from Registry\")\n",
    "fig.show()\n",
    "\n"
   ]
  },
  {
   "cell_type": "code",
   "execution_count": 84,
   "metadata": {},
   "outputs": [],
   "source": [
    "def left_mergedf(df1, df2, c1, c2):\n",
    "    return pd.merge(df1, df2,  how='left', on = [c1, c2])"
   ]
  },
  {
   "cell_type": "code",
   "execution_count": 85,
   "metadata": {},
   "outputs": [
    {
     "data": {
      "text/html": [
       "<div>\n",
       "<style scoped>\n",
       "    .dataframe tbody tr th:only-of-type {\n",
       "        vertical-align: middle;\n",
       "    }\n",
       "\n",
       "    .dataframe tbody tr th {\n",
       "        vertical-align: top;\n",
       "    }\n",
       "\n",
       "    .dataframe thead th {\n",
       "        text-align: right;\n",
       "    }\n",
       "</style>\n",
       "<table border=\"1\" class=\"dataframe\">\n",
       "  <thead>\n",
       "    <tr style=\"text-align: right;\">\n",
       "      <th></th>\n",
       "      <th>ID_x</th>\n",
       "      <th>SX_x</th>\n",
       "      <th>RID</th>\n",
       "      <th>SITEID_x</th>\n",
       "      <th>VISCODE</th>\n",
       "      <th>ENTRY_x</th>\n",
       "      <th>VERIFY_x</th>\n",
       "      <th>USERID_x</th>\n",
       "      <th>USERDATE_x</th>\n",
       "      <th>USERID2_x</th>\n",
       "      <th>...</th>\n",
       "      <th>ECENDAT</th>\n",
       "      <th>ECOCCUR</th>\n",
       "      <th>ECREASOC</th>\n",
       "      <th>REASOTH</th>\n",
       "      <th>ECSDSTXT</th>\n",
       "      <th>ECDOSU</th>\n",
       "      <th>ECDOSFRQ</th>\n",
       "      <th>ECDOSADJ</th>\n",
       "      <th>ECADJ</th>\n",
       "      <th>ECADJOTH</th>\n",
       "    </tr>\n",
       "  </thead>\n",
       "  <tbody>\n",
       "    <tr>\n",
       "      <th>0</th>\n",
       "      <td>6</td>\n",
       "      <td>-4</td>\n",
       "      <td>19</td>\n",
       "      <td>1</td>\n",
       "      <td>sc</td>\n",
       "      <td>4</td>\n",
       "      <td>4</td>\n",
       "      <td>BBAGGINS_UCSD_EDU_2</td>\n",
       "      <td>8/9/18</td>\n",
       "      <td>NaN</td>\n",
       "      <td>...</td>\n",
       "      <td>NaN</td>\n",
       "      <td>NaN</td>\n",
       "      <td>NaN</td>\n",
       "      <td>NaN</td>\n",
       "      <td>NaN</td>\n",
       "      <td>NaN</td>\n",
       "      <td>NaN</td>\n",
       "      <td>NaN</td>\n",
       "      <td>NaN</td>\n",
       "      <td>NaN</td>\n",
       "    </tr>\n",
       "    <tr>\n",
       "      <th>1</th>\n",
       "      <td>8</td>\n",
       "      <td>-4</td>\n",
       "      <td>17</td>\n",
       "      <td>2</td>\n",
       "      <td>sc</td>\n",
       "      <td>4</td>\n",
       "      <td>4</td>\n",
       "      <td>BBAGGINS_UCSD_EDU_2</td>\n",
       "      <td>8/9/18</td>\n",
       "      <td>NaN</td>\n",
       "      <td>...</td>\n",
       "      <td>NaN</td>\n",
       "      <td>NaN</td>\n",
       "      <td>NaN</td>\n",
       "      <td>NaN</td>\n",
       "      <td>NaN</td>\n",
       "      <td>NaN</td>\n",
       "      <td>NaN</td>\n",
       "      <td>NaN</td>\n",
       "      <td>NaN</td>\n",
       "      <td>NaN</td>\n",
       "    </tr>\n",
       "    <tr>\n",
       "      <th>2</th>\n",
       "      <td>10</td>\n",
       "      <td>-4</td>\n",
       "      <td>20</td>\n",
       "      <td>2</td>\n",
       "      <td>sc</td>\n",
       "      <td>4</td>\n",
       "      <td>4</td>\n",
       "      <td>BBAGGINS_UCSD_EDU_2</td>\n",
       "      <td>8/9/18</td>\n",
       "      <td>NaN</td>\n",
       "      <td>...</td>\n",
       "      <td>NaN</td>\n",
       "      <td>NaN</td>\n",
       "      <td>NaN</td>\n",
       "      <td>NaN</td>\n",
       "      <td>NaN</td>\n",
       "      <td>NaN</td>\n",
       "      <td>NaN</td>\n",
       "      <td>NaN</td>\n",
       "      <td>NaN</td>\n",
       "      <td>NaN</td>\n",
       "    </tr>\n",
       "    <tr>\n",
       "      <th>3</th>\n",
       "      <td>12</td>\n",
       "      <td>-4</td>\n",
       "      <td>20</td>\n",
       "      <td>2</td>\n",
       "      <td>bl</td>\n",
       "      <td>4</td>\n",
       "      <td>4</td>\n",
       "      <td>BBAGGINS_UCSD_EDU_2</td>\n",
       "      <td>8/10/18</td>\n",
       "      <td>NaN</td>\n",
       "      <td>...</td>\n",
       "      <td>8/10/18</td>\n",
       "      <td>Y</td>\n",
       "      <td>-4</td>\n",
       "      <td>-4</td>\n",
       "      <td>140.0</td>\n",
       "      <td>mg</td>\n",
       "      <td>QD</td>\n",
       "      <td>N</td>\n",
       "      <td>-4</td>\n",
       "      <td>-4.0</td>\n",
       "    </tr>\n",
       "    <tr>\n",
       "      <th>4</th>\n",
       "      <td>14</td>\n",
       "      <td>-4</td>\n",
       "      <td>20</td>\n",
       "      <td>2</td>\n",
       "      <td>w02</td>\n",
       "      <td>4</td>\n",
       "      <td>4</td>\n",
       "      <td>BBAGGINS_UCSD_EDU_2</td>\n",
       "      <td>8/24/18</td>\n",
       "      <td>NaN</td>\n",
       "      <td>...</td>\n",
       "      <td>2/18/19</td>\n",
       "      <td>Y</td>\n",
       "      <td>-4</td>\n",
       "      <td>-4</td>\n",
       "      <td>280.0</td>\n",
       "      <td>mg</td>\n",
       "      <td>QD</td>\n",
       "      <td>Y</td>\n",
       "      <td>PER PROTOCOL</td>\n",
       "      <td>-4.0</td>\n",
       "    </tr>\n",
       "    <tr>\n",
       "      <th>5</th>\n",
       "      <td>16</td>\n",
       "      <td>-4</td>\n",
       "      <td>20</td>\n",
       "      <td>2</td>\n",
       "      <td>w04</td>\n",
       "      <td>4</td>\n",
       "      <td>4</td>\n",
       "      <td>BBAGGINS_UCSD_EDU_2</td>\n",
       "      <td>9/24/18</td>\n",
       "      <td>NaN</td>\n",
       "      <td>...</td>\n",
       "      <td>8/10/18</td>\n",
       "      <td>N</td>\n",
       "      <td>OTHER</td>\n",
       "      <td>Test</td>\n",
       "      <td>-4.0</td>\n",
       "      <td>-4</td>\n",
       "      <td>-4</td>\n",
       "      <td>-4</td>\n",
       "      <td>-4</td>\n",
       "      <td>-4.0</td>\n",
       "    </tr>\n",
       "    <tr>\n",
       "      <th>6</th>\n",
       "      <td>18</td>\n",
       "      <td>-4</td>\n",
       "      <td>20</td>\n",
       "      <td>2</td>\n",
       "      <td>w08</td>\n",
       "      <td>4</td>\n",
       "      <td>4</td>\n",
       "      <td>BBAGGINS_UCSD_EDU_2</td>\n",
       "      <td>10/24/18</td>\n",
       "      <td>NaN</td>\n",
       "      <td>...</td>\n",
       "      <td>8/10/18</td>\n",
       "      <td>Y</td>\n",
       "      <td>-4</td>\n",
       "      <td>-4</td>\n",
       "      <td>200.0</td>\n",
       "      <td>mg</td>\n",
       "      <td>QD</td>\n",
       "      <td>N</td>\n",
       "      <td>-4</td>\n",
       "      <td>-4.0</td>\n",
       "    </tr>\n",
       "    <tr>\n",
       "      <th>7</th>\n",
       "      <td>20</td>\n",
       "      <td>-4</td>\n",
       "      <td>20</td>\n",
       "      <td>2</td>\n",
       "      <td>w12</td>\n",
       "      <td>4</td>\n",
       "      <td>4</td>\n",
       "      <td>BBAGGINS_UCSD_EDU_2</td>\n",
       "      <td>11/24/18</td>\n",
       "      <td>NaN</td>\n",
       "      <td>...</td>\n",
       "      <td>8/10/18</td>\n",
       "      <td>Y</td>\n",
       "      <td>-4</td>\n",
       "      <td>-4</td>\n",
       "      <td>200.0</td>\n",
       "      <td>mg</td>\n",
       "      <td>QD</td>\n",
       "      <td>N</td>\n",
       "      <td>-4</td>\n",
       "      <td>-4.0</td>\n",
       "    </tr>\n",
       "    <tr>\n",
       "      <th>8</th>\n",
       "      <td>22</td>\n",
       "      <td>-4</td>\n",
       "      <td>20</td>\n",
       "      <td>2</td>\n",
       "      <td>w24</td>\n",
       "      <td>4</td>\n",
       "      <td>4</td>\n",
       "      <td>BBAGGINS_UCSD_EDU_2</td>\n",
       "      <td>2/24/19</td>\n",
       "      <td>NaN</td>\n",
       "      <td>...</td>\n",
       "      <td>-4</td>\n",
       "      <td>Y</td>\n",
       "      <td>-4</td>\n",
       "      <td>-4</td>\n",
       "      <td>200.0</td>\n",
       "      <td>mg</td>\n",
       "      <td>QD</td>\n",
       "      <td>N</td>\n",
       "      <td>-4</td>\n",
       "      <td>-4.0</td>\n",
       "    </tr>\n",
       "    <tr>\n",
       "      <th>9</th>\n",
       "      <td>24</td>\n",
       "      <td>-4</td>\n",
       "      <td>20</td>\n",
       "      <td>2</td>\n",
       "      <td>w36</td>\n",
       "      <td>4</td>\n",
       "      <td>4</td>\n",
       "      <td>BBAGGINSD_UCSD_EDU_2</td>\n",
       "      <td>5/24/19</td>\n",
       "      <td>NaN</td>\n",
       "      <td>...</td>\n",
       "      <td>-4</td>\n",
       "      <td>Y</td>\n",
       "      <td>-4</td>\n",
       "      <td>-4</td>\n",
       "      <td>200.0</td>\n",
       "      <td>mg</td>\n",
       "      <td>QD</td>\n",
       "      <td>N</td>\n",
       "      <td>-4</td>\n",
       "      <td>-4.0</td>\n",
       "    </tr>\n",
       "    <tr>\n",
       "      <th>10</th>\n",
       "      <td>26</td>\n",
       "      <td>-4</td>\n",
       "      <td>19</td>\n",
       "      <td>1</td>\n",
       "      <td>bl</td>\n",
       "      <td>4</td>\n",
       "      <td>4</td>\n",
       "      <td>MORPHEUS_UCSD_EDU_2</td>\n",
       "      <td>8/9/18</td>\n",
       "      <td>NaN</td>\n",
       "      <td>...</td>\n",
       "      <td>8/27/18</td>\n",
       "      <td>Y</td>\n",
       "      <td>-4</td>\n",
       "      <td>-4</td>\n",
       "      <td>280.0</td>\n",
       "      <td>mg</td>\n",
       "      <td>QD</td>\n",
       "      <td>N</td>\n",
       "      <td>-4</td>\n",
       "      <td>-4.0</td>\n",
       "    </tr>\n",
       "    <tr>\n",
       "      <th>11</th>\n",
       "      <td>28</td>\n",
       "      <td>-4</td>\n",
       "      <td>17</td>\n",
       "      <td>2</td>\n",
       "      <td>bl</td>\n",
       "      <td>4</td>\n",
       "      <td>4</td>\n",
       "      <td>STARBUCK_UCSD_EDU</td>\n",
       "      <td>8/9/18</td>\n",
       "      <td>NaN</td>\n",
       "      <td>...</td>\n",
       "      <td>8/17/18</td>\n",
       "      <td>Y</td>\n",
       "      <td>-4</td>\n",
       "      <td>-4</td>\n",
       "      <td>200.0</td>\n",
       "      <td>mg</td>\n",
       "      <td>QD</td>\n",
       "      <td>N</td>\n",
       "      <td>-4</td>\n",
       "      <td>-4.0</td>\n",
       "    </tr>\n",
       "    <tr>\n",
       "      <th>12</th>\n",
       "      <td>30</td>\n",
       "      <td>-4</td>\n",
       "      <td>19</td>\n",
       "      <td>1</td>\n",
       "      <td>w02</td>\n",
       "      <td>4</td>\n",
       "      <td>4</td>\n",
       "      <td>MORPHEUS_UCSD_EDU_2</td>\n",
       "      <td>8/9/18</td>\n",
       "      <td>NaN</td>\n",
       "      <td>...</td>\n",
       "      <td>2/2/19</td>\n",
       "      <td>N</td>\n",
       "      <td>OTHER</td>\n",
       "      <td>Test</td>\n",
       "      <td>-4.0</td>\n",
       "      <td>-4</td>\n",
       "      <td>-4</td>\n",
       "      <td>-4</td>\n",
       "      <td>-4</td>\n",
       "      <td>-4.0</td>\n",
       "    </tr>\n",
       "    <tr>\n",
       "      <th>13</th>\n",
       "      <td>32</td>\n",
       "      <td>-4</td>\n",
       "      <td>17</td>\n",
       "      <td>2</td>\n",
       "      <td>w02</td>\n",
       "      <td>4</td>\n",
       "      <td>4</td>\n",
       "      <td>MORPHEUS_UCSD_EDU</td>\n",
       "      <td>8/9/18</td>\n",
       "      <td>NaN</td>\n",
       "      <td>...</td>\n",
       "      <td>NaN</td>\n",
       "      <td>Y</td>\n",
       "      <td>-4</td>\n",
       "      <td>-4</td>\n",
       "      <td>140.0</td>\n",
       "      <td>mg</td>\n",
       "      <td>QD</td>\n",
       "      <td>Y</td>\n",
       "      <td>PER PROTOCOL</td>\n",
       "      <td>NaN</td>\n",
       "    </tr>\n",
       "  </tbody>\n",
       "</table>\n",
       "<p>14 rows × 39 columns</p>\n",
       "</div>"
      ],
      "text/plain": [
       "    ID_x  SX_x  RID  SITEID_x VISCODE  ENTRY_x  VERIFY_x  \\\n",
       "0      6    -4   19         1      sc        4         4   \n",
       "1      8    -4   17         2      sc        4         4   \n",
       "2     10    -4   20         2      sc        4         4   \n",
       "3     12    -4   20         2      bl        4         4   \n",
       "4     14    -4   20         2     w02        4         4   \n",
       "5     16    -4   20         2     w04        4         4   \n",
       "6     18    -4   20         2     w08        4         4   \n",
       "7     20    -4   20         2     w12        4         4   \n",
       "8     22    -4   20         2     w24        4         4   \n",
       "9     24    -4   20         2     w36        4         4   \n",
       "10    26    -4   19         1      bl        4         4   \n",
       "11    28    -4   17         2      bl        4         4   \n",
       "12    30    -4   19         1     w02        4         4   \n",
       "13    32    -4   17         2     w02        4         4   \n",
       "\n",
       "                USERID_x USERDATE_x  USERID2_x  ...  ECENDAT ECOCCUR ECREASOC  \\\n",
       "0    BBAGGINS_UCSD_EDU_2     8/9/18        NaN  ...      NaN     NaN      NaN   \n",
       "1    BBAGGINS_UCSD_EDU_2     8/9/18        NaN  ...      NaN     NaN      NaN   \n",
       "2    BBAGGINS_UCSD_EDU_2     8/9/18        NaN  ...      NaN     NaN      NaN   \n",
       "3    BBAGGINS_UCSD_EDU_2    8/10/18        NaN  ...  8/10/18       Y       -4   \n",
       "4    BBAGGINS_UCSD_EDU_2    8/24/18        NaN  ...  2/18/19       Y       -4   \n",
       "5    BBAGGINS_UCSD_EDU_2    9/24/18        NaN  ...  8/10/18       N    OTHER   \n",
       "6    BBAGGINS_UCSD_EDU_2   10/24/18        NaN  ...  8/10/18       Y       -4   \n",
       "7    BBAGGINS_UCSD_EDU_2   11/24/18        NaN  ...  8/10/18       Y       -4   \n",
       "8    BBAGGINS_UCSD_EDU_2    2/24/19        NaN  ...       -4       Y       -4   \n",
       "9   BBAGGINSD_UCSD_EDU_2    5/24/19        NaN  ...       -4       Y       -4   \n",
       "10   MORPHEUS_UCSD_EDU_2     8/9/18        NaN  ...  8/27/18       Y       -4   \n",
       "11     STARBUCK_UCSD_EDU     8/9/18        NaN  ...  8/17/18       Y       -4   \n",
       "12   MORPHEUS_UCSD_EDU_2     8/9/18        NaN  ...   2/2/19       N    OTHER   \n",
       "13     MORPHEUS_UCSD_EDU     8/9/18        NaN  ...      NaN       Y       -4   \n",
       "\n",
       "   REASOTH  ECSDSTXT ECDOSU ECDOSFRQ  ECDOSADJ         ECADJ  ECADJOTH  \n",
       "0      NaN       NaN    NaN      NaN       NaN           NaN       NaN  \n",
       "1      NaN       NaN    NaN      NaN       NaN           NaN       NaN  \n",
       "2      NaN       NaN    NaN      NaN       NaN           NaN       NaN  \n",
       "3       -4     140.0     mg       QD         N            -4      -4.0  \n",
       "4       -4     280.0     mg       QD         Y  PER PROTOCOL      -4.0  \n",
       "5     Test      -4.0     -4       -4        -4            -4      -4.0  \n",
       "6       -4     200.0     mg       QD         N            -4      -4.0  \n",
       "7       -4     200.0     mg       QD         N            -4      -4.0  \n",
       "8       -4     200.0     mg       QD         N            -4      -4.0  \n",
       "9       -4     200.0     mg       QD         N            -4      -4.0  \n",
       "10      -4     280.0     mg       QD         N            -4      -4.0  \n",
       "11      -4     200.0     mg       QD         N            -4      -4.0  \n",
       "12    Test      -4.0     -4       -4        -4            -4      -4.0  \n",
       "13      -4     140.0     mg       QD         Y  PER PROTOCOL       NaN  \n",
       "\n",
       "[14 rows x 39 columns]"
      ]
     },
     "execution_count": 85,
     "metadata": {},
     "output_type": "execute_result"
    }
   ],
   "source": [
    "left_mergedf(t2_registry, t2_ec, 'RID', 'VISCODE')"
   ]
  },
  {
   "cell_type": "code",
   "execution_count": 128,
   "metadata": {},
   "outputs": [
    {
     "data": {
      "text/plain": [
       "'-4'"
      ]
     },
     "execution_count": 128,
     "metadata": {},
     "output_type": "execute_result"
    }
   ],
   "source": [
    "left_mergedf(t2_ec, t2_registry,'RID', 'VISCODE').SVRESCRN[0]"
   ]
  },
  {
   "cell_type": "code",
   "execution_count": 124,
   "metadata": {},
   "outputs": [
    {
     "data": {
      "text/plain": [
       "Index(['ID_x', 'SX_x', 'RID', 'SITEID_x', 'VISCODE', 'ENTRY_x', 'VERIFY_x',\n",
       "       'USERID_x', 'USERDATE_x', 'USERID2_x', 'USERDATE2_x', 'SVPERF',\n",
       "       'SVSTDT', 'SVRESCRN', 'SVPREVID', 'SVCALL', 'SVDOSE', 'SVCOVAL', 'ID_y',\n",
       "       'SX_y', 'SITEID_y', 'ENTRY_y', 'VERIFY_y', 'USERID_y', 'USERDATE_y',\n",
       "       'USERID2_y', 'USERDATE2_y', 'RECNO', 'ECSTDAT', 'ECENDAT', 'ECOCCUR',\n",
       "       'ECREASOC', 'REASOTH', 'ECSDSTXT', 'ECDOSU', 'ECDOSFRQ', 'ECDOSADJ',\n",
       "       'ECADJ', 'ECADJOTH'],\n",
       "      dtype='object')"
      ]
     },
     "execution_count": 124,
     "metadata": {},
     "output_type": "execute_result"
    }
   ],
   "source": [
    "merge_df.keys()"
   ]
  },
  {
   "cell_type": "code",
   "execution_count": 48,
   "metadata": {},
   "outputs": [
    {
     "data": {
      "text/html": [
       "<div>\n",
       "<style scoped>\n",
       "    .dataframe tbody tr th:only-of-type {\n",
       "        vertical-align: middle;\n",
       "    }\n",
       "\n",
       "    .dataframe tbody tr th {\n",
       "        vertical-align: top;\n",
       "    }\n",
       "\n",
       "    .dataframe thead th {\n",
       "        text-align: right;\n",
       "    }\n",
       "</style>\n",
       "<table border=\"1\" class=\"dataframe\">\n",
       "  <thead>\n",
       "    <tr style=\"text-align: right;\">\n",
       "      <th></th>\n",
       "      <th>ID_x</th>\n",
       "      <th>SX_x</th>\n",
       "      <th>RID</th>\n",
       "      <th>SITEID_x</th>\n",
       "      <th>VISCODE</th>\n",
       "      <th>ENTRY_x</th>\n",
       "      <th>VERIFY_x</th>\n",
       "      <th>USERID_x</th>\n",
       "      <th>USERDATE_x</th>\n",
       "      <th>USERID2_x</th>\n",
       "      <th>...</th>\n",
       "      <th>ECENDAT</th>\n",
       "      <th>ECOCCUR</th>\n",
       "      <th>ECREASOC</th>\n",
       "      <th>REASOTH</th>\n",
       "      <th>ECSDSTXT</th>\n",
       "      <th>ECDOSU</th>\n",
       "      <th>ECDOSFRQ</th>\n",
       "      <th>ECDOSADJ</th>\n",
       "      <th>ECADJ</th>\n",
       "      <th>ECADJOTH</th>\n",
       "    </tr>\n",
       "  </thead>\n",
       "  <tbody>\n",
       "    <tr>\n",
       "      <th>0</th>\n",
       "      <td>6</td>\n",
       "      <td>-4</td>\n",
       "      <td>19</td>\n",
       "      <td>1</td>\n",
       "      <td>sc</td>\n",
       "      <td>4</td>\n",
       "      <td>4</td>\n",
       "      <td>BBAGGINS_UCSD_EDU_2</td>\n",
       "      <td>8/9/18</td>\n",
       "      <td>NaN</td>\n",
       "      <td>...</td>\n",
       "      <td>NaN</td>\n",
       "      <td>NaN</td>\n",
       "      <td>NaN</td>\n",
       "      <td>NaN</td>\n",
       "      <td>NaN</td>\n",
       "      <td>NaN</td>\n",
       "      <td>NaN</td>\n",
       "      <td>NaN</td>\n",
       "      <td>NaN</td>\n",
       "      <td>NaN</td>\n",
       "    </tr>\n",
       "    <tr>\n",
       "      <th>1</th>\n",
       "      <td>8</td>\n",
       "      <td>-4</td>\n",
       "      <td>17</td>\n",
       "      <td>2</td>\n",
       "      <td>sc</td>\n",
       "      <td>4</td>\n",
       "      <td>4</td>\n",
       "      <td>BBAGGINS_UCSD_EDU_2</td>\n",
       "      <td>8/9/18</td>\n",
       "      <td>NaN</td>\n",
       "      <td>...</td>\n",
       "      <td>NaN</td>\n",
       "      <td>NaN</td>\n",
       "      <td>NaN</td>\n",
       "      <td>NaN</td>\n",
       "      <td>NaN</td>\n",
       "      <td>NaN</td>\n",
       "      <td>NaN</td>\n",
       "      <td>NaN</td>\n",
       "      <td>NaN</td>\n",
       "      <td>NaN</td>\n",
       "    </tr>\n",
       "    <tr>\n",
       "      <th>2</th>\n",
       "      <td>10</td>\n",
       "      <td>-4</td>\n",
       "      <td>20</td>\n",
       "      <td>2</td>\n",
       "      <td>sc</td>\n",
       "      <td>4</td>\n",
       "      <td>4</td>\n",
       "      <td>BBAGGINS_UCSD_EDU_2</td>\n",
       "      <td>8/9/18</td>\n",
       "      <td>NaN</td>\n",
       "      <td>...</td>\n",
       "      <td>NaN</td>\n",
       "      <td>NaN</td>\n",
       "      <td>NaN</td>\n",
       "      <td>NaN</td>\n",
       "      <td>NaN</td>\n",
       "      <td>NaN</td>\n",
       "      <td>NaN</td>\n",
       "      <td>NaN</td>\n",
       "      <td>NaN</td>\n",
       "      <td>NaN</td>\n",
       "    </tr>\n",
       "    <tr>\n",
       "      <th>3</th>\n",
       "      <td>12</td>\n",
       "      <td>-4</td>\n",
       "      <td>20</td>\n",
       "      <td>2</td>\n",
       "      <td>bl</td>\n",
       "      <td>4</td>\n",
       "      <td>4</td>\n",
       "      <td>BBAGGINS_UCSD_EDU_2</td>\n",
       "      <td>8/10/18</td>\n",
       "      <td>NaN</td>\n",
       "      <td>...</td>\n",
       "      <td>8/10/18</td>\n",
       "      <td>Y</td>\n",
       "      <td>-4</td>\n",
       "      <td>-4</td>\n",
       "      <td>140.0</td>\n",
       "      <td>mg</td>\n",
       "      <td>QD</td>\n",
       "      <td>N</td>\n",
       "      <td>-4</td>\n",
       "      <td>-4.0</td>\n",
       "    </tr>\n",
       "    <tr>\n",
       "      <th>4</th>\n",
       "      <td>14</td>\n",
       "      <td>-4</td>\n",
       "      <td>20</td>\n",
       "      <td>2</td>\n",
       "      <td>w02</td>\n",
       "      <td>4</td>\n",
       "      <td>4</td>\n",
       "      <td>BBAGGINS_UCSD_EDU_2</td>\n",
       "      <td>8/24/18</td>\n",
       "      <td>NaN</td>\n",
       "      <td>...</td>\n",
       "      <td>2/18/19</td>\n",
       "      <td>Y</td>\n",
       "      <td>-4</td>\n",
       "      <td>-4</td>\n",
       "      <td>280.0</td>\n",
       "      <td>mg</td>\n",
       "      <td>QD</td>\n",
       "      <td>Y</td>\n",
       "      <td>PER PROTOCOL</td>\n",
       "      <td>-4.0</td>\n",
       "    </tr>\n",
       "  </tbody>\n",
       "</table>\n",
       "<p>5 rows × 39 columns</p>\n",
       "</div>"
      ],
      "text/plain": [
       "   ID_x  SX_x  RID  SITEID_x VISCODE  ENTRY_x  VERIFY_x             USERID_x  \\\n",
       "0     6    -4   19         1      sc        4         4  BBAGGINS_UCSD_EDU_2   \n",
       "1     8    -4   17         2      sc        4         4  BBAGGINS_UCSD_EDU_2   \n",
       "2    10    -4   20         2      sc        4         4  BBAGGINS_UCSD_EDU_2   \n",
       "3    12    -4   20         2      bl        4         4  BBAGGINS_UCSD_EDU_2   \n",
       "4    14    -4   20         2     w02        4         4  BBAGGINS_UCSD_EDU_2   \n",
       "\n",
       "  USERDATE_x  USERID2_x  ...  ECENDAT ECOCCUR ECREASOC REASOTH  ECSDSTXT  \\\n",
       "0     8/9/18        NaN  ...      NaN     NaN      NaN     NaN       NaN   \n",
       "1     8/9/18        NaN  ...      NaN     NaN      NaN     NaN       NaN   \n",
       "2     8/9/18        NaN  ...      NaN     NaN      NaN     NaN       NaN   \n",
       "3    8/10/18        NaN  ...  8/10/18       Y       -4      -4     140.0   \n",
       "4    8/24/18        NaN  ...  2/18/19       Y       -4      -4     280.0   \n",
       "\n",
       "  ECDOSU ECDOSFRQ  ECDOSADJ         ECADJ  ECADJOTH  \n",
       "0    NaN      NaN       NaN           NaN       NaN  \n",
       "1    NaN      NaN       NaN           NaN       NaN  \n",
       "2    NaN      NaN       NaN           NaN       NaN  \n",
       "3     mg       QD         N            -4      -4.0  \n",
       "4     mg       QD         Y  PER PROTOCOL      -4.0  \n",
       "\n",
       "[5 rows x 39 columns]"
      ]
     },
     "execution_count": 48,
     "metadata": {},
     "output_type": "execute_result"
    }
   ],
   "source": [
    "merge_df = pd.merge(t2_registry, t2_ec,  how='left', on = ['RID', 'VISCODE'])\n",
    "merge_df[]"
   ]
  },
  {
   "cell_type": "code",
   "execution_count": 56,
   "metadata": {},
   "outputs": [],
   "source": [
    "viscode = 'w02'\n",
    "svdose = 'Y'\n",
    "ECSDSTXT = 280"
   ]
  },
  {
   "cell_type": "code",
   "execution_count": 54,
   "metadata": {},
   "outputs": [
    {
     "data": {
      "text/plain": [
       "0       NaN\n",
       "1       NaN\n",
       "2       NaN\n",
       "3     140.0\n",
       "4     280.0\n",
       "5      -4.0\n",
       "6     200.0\n",
       "7     200.0\n",
       "8     200.0\n",
       "9     200.0\n",
       "10    280.0\n",
       "11    200.0\n",
       "12     -4.0\n",
       "13    140.0\n",
       "Name: ECSDSTXT, dtype: float64"
      ]
     },
     "execution_count": 54,
     "metadata": {},
     "output_type": "execute_result"
    }
   ],
   "source": [
    "merge_df['ECSDSTXT']"
   ]
  },
  {
   "cell_type": "code",
   "execution_count": 53,
   "metadata": {},
   "outputs": [
    {
     "data": {
      "text/plain": [
       "Index(['ID_x', 'SX_x', 'RID', 'SITEID_x', 'VISCODE', 'ENTRY_x', 'VERIFY_x',\n",
       "       'USERID_x', 'USERDATE_x', 'USERID2_x', 'USERDATE2_x', 'SVPERF',\n",
       "       'SVSTDT', 'SVRESCRN', 'SVPREVID', 'SVCALL', 'SVDOSE', 'SVCOVAL', 'ID_y',\n",
       "       'SX_y', 'SITEID_y', 'ENTRY_y', 'VERIFY_y', 'USERID_y', 'USERDATE_y',\n",
       "       'USERID2_y', 'USERDATE2_y', 'RECNO', 'ECSTDAT', 'ECENDAT', 'ECOCCUR',\n",
       "       'ECREASOC', 'REASOTH', 'ECSDSTXT', 'ECDOSU', 'ECDOSFRQ', 'ECDOSADJ',\n",
       "       'ECADJ', 'ECADJOTH'],\n",
       "      dtype='object')"
      ]
     },
     "execution_count": 53,
     "metadata": {},
     "output_type": "execute_result"
    }
   ],
   "source": [
    "merge_df.keys()\n"
   ]
  },
  {
   "cell_type": "code",
   "execution_count": 57,
   "metadata": {},
   "outputs": [
    {
     "data": {
      "text/html": [
       "<div>\n",
       "<style scoped>\n",
       "    .dataframe tbody tr th:only-of-type {\n",
       "        vertical-align: middle;\n",
       "    }\n",
       "\n",
       "    .dataframe tbody tr th {\n",
       "        vertical-align: top;\n",
       "    }\n",
       "\n",
       "    .dataframe thead th {\n",
       "        text-align: right;\n",
       "    }\n",
       "</style>\n",
       "<table border=\"1\" class=\"dataframe\">\n",
       "  <thead>\n",
       "    <tr style=\"text-align: right;\">\n",
       "      <th></th>\n",
       "      <th>ID_x</th>\n",
       "      <th>SX_x</th>\n",
       "      <th>RID</th>\n",
       "      <th>SITEID_x</th>\n",
       "      <th>VISCODE</th>\n",
       "      <th>ENTRY_x</th>\n",
       "      <th>VERIFY_x</th>\n",
       "      <th>USERID_x</th>\n",
       "      <th>USERDATE_x</th>\n",
       "      <th>USERID2_x</th>\n",
       "      <th>...</th>\n",
       "      <th>ECENDAT</th>\n",
       "      <th>ECOCCUR</th>\n",
       "      <th>ECREASOC</th>\n",
       "      <th>REASOTH</th>\n",
       "      <th>ECSDSTXT</th>\n",
       "      <th>ECDOSU</th>\n",
       "      <th>ECDOSFRQ</th>\n",
       "      <th>ECDOSADJ</th>\n",
       "      <th>ECADJ</th>\n",
       "      <th>ECADJOTH</th>\n",
       "    </tr>\n",
       "  </thead>\n",
       "  <tbody>\n",
       "    <tr>\n",
       "      <th>12</th>\n",
       "      <td>30</td>\n",
       "      <td>-4</td>\n",
       "      <td>19</td>\n",
       "      <td>1</td>\n",
       "      <td>w02</td>\n",
       "      <td>4</td>\n",
       "      <td>4</td>\n",
       "      <td>MORPHEUS_UCSD_EDU_2</td>\n",
       "      <td>8/9/18</td>\n",
       "      <td>NaN</td>\n",
       "      <td>...</td>\n",
       "      <td>2/2/19</td>\n",
       "      <td>N</td>\n",
       "      <td>OTHER</td>\n",
       "      <td>Test</td>\n",
       "      <td>-4.0</td>\n",
       "      <td>-4</td>\n",
       "      <td>-4</td>\n",
       "      <td>-4</td>\n",
       "      <td>-4</td>\n",
       "      <td>-4.0</td>\n",
       "    </tr>\n",
       "    <tr>\n",
       "      <th>13</th>\n",
       "      <td>32</td>\n",
       "      <td>-4</td>\n",
       "      <td>17</td>\n",
       "      <td>2</td>\n",
       "      <td>w02</td>\n",
       "      <td>4</td>\n",
       "      <td>4</td>\n",
       "      <td>MORPHEUS_UCSD_EDU</td>\n",
       "      <td>8/9/18</td>\n",
       "      <td>NaN</td>\n",
       "      <td>...</td>\n",
       "      <td>NaN</td>\n",
       "      <td>Y</td>\n",
       "      <td>-4</td>\n",
       "      <td>-4</td>\n",
       "      <td>140.0</td>\n",
       "      <td>mg</td>\n",
       "      <td>QD</td>\n",
       "      <td>Y</td>\n",
       "      <td>PER PROTOCOL</td>\n",
       "      <td>NaN</td>\n",
       "    </tr>\n",
       "  </tbody>\n",
       "</table>\n",
       "<p>2 rows × 39 columns</p>\n",
       "</div>"
      ],
      "text/plain": [
       "    ID_x  SX_x  RID  SITEID_x VISCODE  ENTRY_x  VERIFY_x             USERID_x  \\\n",
       "12    30    -4   19         1     w02        4         4  MORPHEUS_UCSD_EDU_2   \n",
       "13    32    -4   17         2     w02        4         4    MORPHEUS_UCSD_EDU   \n",
       "\n",
       "   USERDATE_x  USERID2_x  ...  ECENDAT ECOCCUR ECREASOC REASOTH  ECSDSTXT  \\\n",
       "12     8/9/18        NaN  ...   2/2/19       N    OTHER    Test      -4.0   \n",
       "13     8/9/18        NaN  ...      NaN       Y       -4      -4     140.0   \n",
       "\n",
       "   ECDOSU ECDOSFRQ  ECDOSADJ         ECADJ  ECADJOTH  \n",
       "12     -4       -4        -4            -4      -4.0  \n",
       "13     mg       QD         Y  PER PROTOCOL       NaN  \n",
       "\n",
       "[2 rows x 39 columns]"
      ]
     },
     "execution_count": 57,
     "metadata": {},
     "output_type": "execute_result"
    }
   ],
   "source": [
    "merge_filter  = merge_df.loc[(merge_df[\"VISCODE\"] == viscode), :]\n",
    "merge_filter = merge_filter.loc[merge_filter[\"SVDOSE\"] == svdose, :]\n",
    "merge_filter = merge_filter.loc[merge_filter[\"ECSDSTXT\"] != ECSDSTXT, :]\n",
    "merge_filter.head()"
   ]
  },
  {
   "cell_type": "code",
   "execution_count": 59,
   "metadata": {},
   "outputs": [
    {
     "data": {
      "text/html": [
       "<div>\n",
       "<style scoped>\n",
       "    .dataframe tbody tr th:only-of-type {\n",
       "        vertical-align: middle;\n",
       "    }\n",
       "\n",
       "    .dataframe tbody tr th {\n",
       "        vertical-align: top;\n",
       "    }\n",
       "\n",
       "    .dataframe thead th {\n",
       "        text-align: right;\n",
       "    }\n",
       "</style>\n",
       "<table border=\"1\" class=\"dataframe\">\n",
       "  <thead>\n",
       "    <tr style=\"text-align: right;\">\n",
       "      <th></th>\n",
       "      <th>ID</th>\n",
       "      <th>SX_x</th>\n",
       "      <th>RID</th>\n",
       "      <th>SITEID_x</th>\n",
       "      <th>VISCODE</th>\n",
       "      <th>ENTRY_x</th>\n",
       "      <th>VERIFY_x</th>\n",
       "      <th>USERID</th>\n",
       "      <th>USERDATE_x</th>\n",
       "      <th>USERID2_x</th>\n",
       "      <th>...</th>\n",
       "      <th>ECENDAT</th>\n",
       "      <th>ECOCCUR</th>\n",
       "      <th>ECREASOC</th>\n",
       "      <th>REASOTH</th>\n",
       "      <th>ECSDSTXT</th>\n",
       "      <th>ECDOSU</th>\n",
       "      <th>ECDOSFRQ</th>\n",
       "      <th>ECDOSADJ</th>\n",
       "      <th>ECADJ</th>\n",
       "      <th>ECADJOTH</th>\n",
       "    </tr>\n",
       "  </thead>\n",
       "  <tbody>\n",
       "    <tr>\n",
       "      <th>12</th>\n",
       "      <td>30</td>\n",
       "      <td>-4</td>\n",
       "      <td>19</td>\n",
       "      <td>1</td>\n",
       "      <td>w02</td>\n",
       "      <td>4</td>\n",
       "      <td>4</td>\n",
       "      <td>MORPHEUS_UCSD_EDU_2</td>\n",
       "      <td>8/9/18</td>\n",
       "      <td>NaN</td>\n",
       "      <td>...</td>\n",
       "      <td>2/2/19</td>\n",
       "      <td>N</td>\n",
       "      <td>OTHER</td>\n",
       "      <td>Test</td>\n",
       "      <td>-4.0</td>\n",
       "      <td>-4</td>\n",
       "      <td>-4</td>\n",
       "      <td>-4</td>\n",
       "      <td>-4</td>\n",
       "      <td>-4.0</td>\n",
       "    </tr>\n",
       "    <tr>\n",
       "      <th>13</th>\n",
       "      <td>32</td>\n",
       "      <td>-4</td>\n",
       "      <td>17</td>\n",
       "      <td>2</td>\n",
       "      <td>w02</td>\n",
       "      <td>4</td>\n",
       "      <td>4</td>\n",
       "      <td>MORPHEUS_UCSD_EDU</td>\n",
       "      <td>8/9/18</td>\n",
       "      <td>NaN</td>\n",
       "      <td>...</td>\n",
       "      <td>NaN</td>\n",
       "      <td>Y</td>\n",
       "      <td>-4</td>\n",
       "      <td>-4</td>\n",
       "      <td>140.0</td>\n",
       "      <td>mg</td>\n",
       "      <td>QD</td>\n",
       "      <td>Y</td>\n",
       "      <td>PER PROTOCOL</td>\n",
       "      <td>NaN</td>\n",
       "    </tr>\n",
       "  </tbody>\n",
       "</table>\n",
       "<p>2 rows × 39 columns</p>\n",
       "</div>"
      ],
      "text/plain": [
       "    ID  SX_x  RID  SITEID_x VISCODE  ENTRY_x  VERIFY_x               USERID  \\\n",
       "12  30    -4   19         1     w02        4         4  MORPHEUS_UCSD_EDU_2   \n",
       "13  32    -4   17         2     w02        4         4    MORPHEUS_UCSD_EDU   \n",
       "\n",
       "   USERDATE_x  USERID2_x  ...  ECENDAT ECOCCUR ECREASOC REASOTH  ECSDSTXT  \\\n",
       "12     8/9/18        NaN  ...   2/2/19       N    OTHER    Test      -4.0   \n",
       "13     8/9/18        NaN  ...      NaN       Y       -4      -4     140.0   \n",
       "\n",
       "   ECDOSU ECDOSFRQ  ECDOSADJ         ECADJ  ECADJOTH  \n",
       "12     -4       -4        -4            -4      -4.0  \n",
       "13     mg       QD         Y  PER PROTOCOL       NaN  \n",
       "\n",
       "[2 rows x 39 columns]"
      ]
     },
     "execution_count": 59,
     "metadata": {},
     "output_type": "execute_result"
    }
   ],
   "source": [
    "merge_filter = merge_filter.rename(columns={\"ID_x\": \"ID\", \"USERID_x\": \"USERID\"})\n",
    "merge_filter"
   ]
  },
  {
   "cell_type": "code",
   "execution_count": 64,
   "metadata": {},
   "outputs": [],
   "source": [
    "final_merge = merge_filter[['ID', 'RID', 'USERID', 'VISCODE', 'SVDOSE', 'ECSDSTXT']]"
   ]
  },
  {
   "cell_type": "code",
   "execution_count": 65,
   "metadata": {},
   "outputs": [
    {
     "data": {
      "text/html": [
       "<div>\n",
       "<style scoped>\n",
       "    .dataframe tbody tr th:only-of-type {\n",
       "        vertical-align: middle;\n",
       "    }\n",
       "\n",
       "    .dataframe tbody tr th {\n",
       "        vertical-align: top;\n",
       "    }\n",
       "\n",
       "    .dataframe thead th {\n",
       "        text-align: right;\n",
       "    }\n",
       "</style>\n",
       "<table border=\"1\" class=\"dataframe\">\n",
       "  <thead>\n",
       "    <tr style=\"text-align: right;\">\n",
       "      <th></th>\n",
       "      <th>ID</th>\n",
       "      <th>RID</th>\n",
       "      <th>USERID</th>\n",
       "      <th>VISCODE</th>\n",
       "      <th>SVDOSE</th>\n",
       "      <th>ECSDSTXT</th>\n",
       "    </tr>\n",
       "  </thead>\n",
       "  <tbody>\n",
       "    <tr>\n",
       "      <th>12</th>\n",
       "      <td>30</td>\n",
       "      <td>19</td>\n",
       "      <td>MORPHEUS_UCSD_EDU_2</td>\n",
       "      <td>w02</td>\n",
       "      <td>Y</td>\n",
       "      <td>-4.0</td>\n",
       "    </tr>\n",
       "    <tr>\n",
       "      <th>13</th>\n",
       "      <td>32</td>\n",
       "      <td>17</td>\n",
       "      <td>MORPHEUS_UCSD_EDU</td>\n",
       "      <td>w02</td>\n",
       "      <td>Y</td>\n",
       "      <td>140.0</td>\n",
       "    </tr>\n",
       "  </tbody>\n",
       "</table>\n",
       "</div>"
      ],
      "text/plain": [
       "    ID  RID               USERID VISCODE SVDOSE  ECSDSTXT\n",
       "12  30   19  MORPHEUS_UCSD_EDU_2     w02      Y      -4.0\n",
       "13  32   17    MORPHEUS_UCSD_EDU     w02      Y     140.0"
      ]
     },
     "execution_count": 65,
     "metadata": {},
     "output_type": "execute_result"
    }
   ],
   "source": [
    "final_merge"
   ]
  },
  {
   "cell_type": "code",
   "execution_count": 69,
   "metadata": {},
   "outputs": [],
   "source": [
    "final_merge.to_csv('results.csv', index=False)"
   ]
  },
  {
   "cell_type": "code",
   "execution_count": 122,
   "metadata": {},
   "outputs": [
    {
     "data": {
      "text/plain": [
       "'file/results.csv'"
      ]
     },
     "execution_count": 122,
     "metadata": {},
     "output_type": "execute_result"
    }
   ],
   "source": [
    "directory = \"file/\"\n",
    "file = directory+\"results.csv\"\n",
    "file"
   ]
  },
  {
   "cell_type": "code",
   "execution_count": 123,
   "metadata": {},
   "outputs": [
    {
     "ename": "FileNotFoundError",
     "evalue": "[Errno 2] No such file or directory: 'file/results.csv'",
     "output_type": "error",
     "traceback": [
      "\u001b[0;31m---------------------------------------------------------------------------\u001b[0m",
      "\u001b[0;31mFileNotFoundError\u001b[0m                         Traceback (most recent call last)",
      "\u001b[0;32m<ipython-input-123-bba2399a1bea>\u001b[0m in \u001b[0;36m<module>\u001b[0;34m\u001b[0m\n\u001b[0;32m----> 1\u001b[0;31m \u001b[0mfinal_merge\u001b[0m\u001b[0;34m.\u001b[0m\u001b[0mto_csv\u001b[0m\u001b[0;34m(\u001b[0m\u001b[0mfile\u001b[0m\u001b[0;34m,\u001b[0m \u001b[0mindex\u001b[0m\u001b[0;34m=\u001b[0m\u001b[0;32mFalse\u001b[0m\u001b[0;34m)\u001b[0m\u001b[0;34m\u001b[0m\u001b[0;34m\u001b[0m\u001b[0m\n\u001b[0m",
      "\u001b[0;32m~/anaconda3/envs/PythonData/lib/python3.6/site-packages/pandas/core/generic.py\u001b[0m in \u001b[0;36mto_csv\u001b[0;34m(self, path_or_buf, sep, na_rep, float_format, columns, header, index, index_label, mode, encoding, compression, quoting, quotechar, line_terminator, chunksize, tupleize_cols, date_format, doublequote, escapechar, decimal)\u001b[0m\n\u001b[1;32m   3018\u001b[0m                                  \u001b[0mdoublequote\u001b[0m\u001b[0;34m=\u001b[0m\u001b[0mdoublequote\u001b[0m\u001b[0;34m,\u001b[0m\u001b[0;34m\u001b[0m\u001b[0;34m\u001b[0m\u001b[0m\n\u001b[1;32m   3019\u001b[0m                                  escapechar=escapechar, decimal=decimal)\n\u001b[0;32m-> 3020\u001b[0;31m         \u001b[0mformatter\u001b[0m\u001b[0;34m.\u001b[0m\u001b[0msave\u001b[0m\u001b[0;34m(\u001b[0m\u001b[0;34m)\u001b[0m\u001b[0;34m\u001b[0m\u001b[0;34m\u001b[0m\u001b[0m\n\u001b[0m\u001b[1;32m   3021\u001b[0m \u001b[0;34m\u001b[0m\u001b[0m\n\u001b[1;32m   3022\u001b[0m         \u001b[0;32mif\u001b[0m \u001b[0mpath_or_buf\u001b[0m \u001b[0;32mis\u001b[0m \u001b[0;32mNone\u001b[0m\u001b[0;34m:\u001b[0m\u001b[0;34m\u001b[0m\u001b[0;34m\u001b[0m\u001b[0m\n",
      "\u001b[0;32m~/anaconda3/envs/PythonData/lib/python3.6/site-packages/pandas/io/formats/csvs.py\u001b[0m in \u001b[0;36msave\u001b[0;34m(self)\u001b[0m\n\u001b[1;32m    155\u001b[0m             f, handles = _get_handle(self.path_or_buf, self.mode,\n\u001b[1;32m    156\u001b[0m                                      \u001b[0mencoding\u001b[0m\u001b[0;34m=\u001b[0m\u001b[0mself\u001b[0m\u001b[0;34m.\u001b[0m\u001b[0mencoding\u001b[0m\u001b[0;34m,\u001b[0m\u001b[0;34m\u001b[0m\u001b[0;34m\u001b[0m\u001b[0m\n\u001b[0;32m--> 157\u001b[0;31m                                      compression=self.compression)\n\u001b[0m\u001b[1;32m    158\u001b[0m             \u001b[0mclose\u001b[0m \u001b[0;34m=\u001b[0m \u001b[0;32mTrue\u001b[0m\u001b[0;34m\u001b[0m\u001b[0;34m\u001b[0m\u001b[0m\n\u001b[1;32m    159\u001b[0m \u001b[0;34m\u001b[0m\u001b[0m\n",
      "\u001b[0;32m~/anaconda3/envs/PythonData/lib/python3.6/site-packages/pandas/io/common.py\u001b[0m in \u001b[0;36m_get_handle\u001b[0;34m(path_or_buf, mode, encoding, compression, memory_map, is_text)\u001b[0m\n\u001b[1;32m    422\u001b[0m         \u001b[0;32melif\u001b[0m \u001b[0mencoding\u001b[0m\u001b[0;34m:\u001b[0m\u001b[0;34m\u001b[0m\u001b[0;34m\u001b[0m\u001b[0m\n\u001b[1;32m    423\u001b[0m             \u001b[0;31m# Python 3 and encoding\u001b[0m\u001b[0;34m\u001b[0m\u001b[0;34m\u001b[0m\u001b[0;34m\u001b[0m\u001b[0m\n\u001b[0;32m--> 424\u001b[0;31m             \u001b[0mf\u001b[0m \u001b[0;34m=\u001b[0m \u001b[0mopen\u001b[0m\u001b[0;34m(\u001b[0m\u001b[0mpath_or_buf\u001b[0m\u001b[0;34m,\u001b[0m \u001b[0mmode\u001b[0m\u001b[0;34m,\u001b[0m \u001b[0mencoding\u001b[0m\u001b[0;34m=\u001b[0m\u001b[0mencoding\u001b[0m\u001b[0;34m,\u001b[0m \u001b[0mnewline\u001b[0m\u001b[0;34m=\u001b[0m\u001b[0;34m\"\"\u001b[0m\u001b[0;34m)\u001b[0m\u001b[0;34m\u001b[0m\u001b[0;34m\u001b[0m\u001b[0m\n\u001b[0m\u001b[1;32m    425\u001b[0m         \u001b[0;32melif\u001b[0m \u001b[0mis_text\u001b[0m\u001b[0;34m:\u001b[0m\u001b[0;34m\u001b[0m\u001b[0;34m\u001b[0m\u001b[0m\n\u001b[1;32m    426\u001b[0m             \u001b[0;31m# Python 3 and no explicit encoding\u001b[0m\u001b[0;34m\u001b[0m\u001b[0;34m\u001b[0m\u001b[0;34m\u001b[0m\u001b[0m\n",
      "\u001b[0;31mFileNotFoundError\u001b[0m: [Errno 2] No such file or directory: 'file/results.csv'"
     ]
    }
   ],
   "source": [
    "final_merge.to_csv(file, index=False)"
   ]
  },
  {
   "cell_type": "code",
   "execution_count": 134,
   "metadata": {},
   "outputs": [
    {
     "data": {
      "text/plain": [
       "'0.24.2'"
      ]
     },
     "execution_count": 134,
     "metadata": {},
     "output_type": "execute_result"
    }
   ],
   "source": [
    "import pandas\n",
    "pandas.__version__\n"
   ]
  },
  {
   "cell_type": "code",
   "execution_count": null,
   "metadata": {},
   "outputs": [],
   "source": []
  }
 ],
 "metadata": {
  "kernelspec": {
   "display_name": "Python [conda env:PythonData] *",
   "language": "python",
   "name": "conda-env-PythonData-py"
  },
  "language_info": {
   "codemirror_mode": {
    "name": "ipython",
    "version": 3
   },
   "file_extension": ".py",
   "mimetype": "text/x-python",
   "name": "python",
   "nbconvert_exporter": "python",
   "pygments_lexer": "ipython3",
   "version": "3.6.8"
  }
 },
 "nbformat": 4,
 "nbformat_minor": 2
}
